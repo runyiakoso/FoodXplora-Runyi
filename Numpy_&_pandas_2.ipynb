{
  "nbformat": 4,
  "nbformat_minor": 0,
  "metadata": {
    "colab": {
      "provenance": [],
      "authorship_tag": "ABX9TyPhtRttaq4H0wB4QDa93ezW",
      "include_colab_link": true
    },
    "kernelspec": {
      "name": "python3",
      "display_name": "Python 3"
    },
    "language_info": {
      "name": "python"
    }
  },
  "cells": [
    {
      "cell_type": "markdown",
      "metadata": {
        "id": "view-in-github",
        "colab_type": "text"
      },
      "source": [
        "<a href=\"https://colab.research.google.com/github/runyiakoso/FoodXplora-Runyi/blob/master/Numpy_%26_pandas_2.ipynb\" target=\"_parent\"><img src=\"https://colab.research.google.com/assets/colab-badge.svg\" alt=\"Open In Colab\"/></a>"
      ]
    },
    {
      "cell_type": "code",
      "execution_count": null,
      "metadata": {
        "id": "jkIym-l6n7cr",
        "colab": {
          "base_uri": "https://localhost:8080/"
        },
        "outputId": "033d1055-2ab9-4773-967d-f3c04cda7cab"
      },
      "outputs": [
        {
          "output_type": "stream",
          "name": "stdout",
          "text": [
            "[0.02535297 0.50743636 0.04174423 0.61211196 0.76547843]\n",
            "[[ 0.58961003  0.65576902  0.10392008 -1.52622411 -0.04198263]\n",
            " [-0.79023974 -1.57500975  0.04196663 -1.63517427  0.77502145]\n",
            " [ 0.04091046  1.11898139 -0.90513385  0.45263667  1.22680099]\n",
            " [-0.86676522  1.34129453  0.33801612 -2.19274235 -0.17549789]\n",
            " [-0.73780117  0.68513567  0.69656412  0.39460993 -1.23608289]]\n",
            "[[ 0.65576902  0.10392008]\n",
            " [-1.57500975  0.04196663]]\n",
            "Values greater than: [0.58961003 0.65576902 0.10392008 0.04196663 0.77502145 0.04091046\n",
            " 1.11898139 0.45263667 1.22680099 1.34129453 0.33801612 0.68513567\n",
            " 0.69656412 0.39460993]\n",
            "Values less than: [-1.52622411 -0.04198263 -0.79023974 -1.57500975 -1.63517427 -0.90513385\n",
            " -0.86676522 -2.19274235 -0.17549789 -0.73780117 -1.23608289]\n",
            "Values greater than 0.5:  [0.50743636 0.61211196 0.76547843]\n",
            "Values less than 0.5:  [0.02535297 0.04174423]\n"
          ]
        }
      ],
      "source": [
        "import numpy as np\n",
        "rand = np.random.rand(5)\n",
        "print(rand)\n",
        "rand3 = np.random.randn(5,5)\n",
        "print(rand3)\n",
        "print(rand3[0:2,1:3])\n",
        "print('Values greater than 0:', rand3[rand3>0])\n",
        "print('Values less than 0:', rand3[rand3<0])\n",
        "'''rand1 = np.random.rand(5,3)\n",
        "print(rand1)\n",
        "rand2 = np.random.randn(5) #n - normal distribution, mean 0 variance 1\n",
        "print(rand2)\n",
        "rand3 = np.random.randn(5,5)\n",
        "print(rand3)\n",
        "print('Mean:', np.mean(rand2))\n",
        "print('Std:', np.std(rand2))\n",
        "rand3 = np.random.randint(1,5,10) #1-low, 5-high, 10-size or shape of output\n",
        "print(rand3)\n",
        "rand4 = np.random.randint(1,5,[5,5])# the [5,5] is matrix\n",
        "print(rand4)\n",
        "\n",
        "#access entries in Numpy array\n",
        "print(rand[3])\n",
        "print(rand[0:3])\n",
        "print(rand[0:5:2])\n",
        "\n",
        "#to access indexes to np array, use np.arange[]\n",
        "print(rand[np.arange(1,5,2)])\n",
        "'''\n",
        "#accessing using logical operations\n",
        "\n",
        "print('Values greater than 0.5: ', rand[rand>0.5])\n",
        "print('Values less than 0.5: ', rand[rand<0.5])\n"
      ]
    },
    {
      "cell_type": "code",
      "source": [
        "rand>0.5"
      ],
      "metadata": {
        "id": "g2ecSBO1Dqiz",
        "colab": {
          "base_uri": "https://localhost:8080/"
        },
        "outputId": "4847513f-984d-439b-dcce-090c3c1ce6e9"
      },
      "execution_count": null,
      "outputs": [
        {
          "output_type": "execute_result",
          "data": {
            "text/plain": [
              "array([ True, False, False,  True,  True])"
            ]
          },
          "metadata": {},
          "execution_count": 34
        }
      ]
    },
    {
      "cell_type": "code",
      "source": [
        "rand3 = np.random.randn(5,5)\n",
        "print(rand3[1]) #row 1 is 0,row 2 is 1, row 3 is 2, etc\n",
        "print(rand3[1][2])#means row index 1, column index 2 - to access individual matrix"
      ],
      "metadata": {
        "colab": {
          "base_uri": "https://localhost:8080/"
        },
        "id": "rcJV2slsXqMf",
        "outputId": "b1d9060a-4887-4d28-d1de-f908f69a244a"
      },
      "execution_count": null,
      "outputs": [
        {
          "output_type": "stream",
          "name": "stdout",
          "text": [
            "[[-1.12982629 -0.86200527]\n",
            " [-0.46149495  0.56494199]]\n",
            "[-0.22994349 -0.46149495  0.56494199 -0.94412721 -1.10391913]\n",
            "0.5649419911446345\n"
          ]
        }
      ]
    },
    {
      "cell_type": "code",
      "source": [
        "rand[0:3] = 4\n",
        "print(rand)\n",
        "rand[3:5]= [5,6]\n",
        "print(rand)\n",
        "\n"
      ],
      "metadata": {
        "colab": {
          "base_uri": "https://localhost:8080/"
        },
        "id": "j5H836YVYb8y",
        "outputId": "0279ae09-dd32-46e6-ac3b-113b25fab4a6"
      },
      "execution_count": null,
      "outputs": [
        {
          "output_type": "stream",
          "name": "stdout",
          "text": [
            "[4.         4.         4.         0.61211196 0.76547843]\n",
            "[4. 4. 4. 5. 6.]\n"
          ]
        }
      ]
    },
    {
      "cell_type": "code",
      "source": [
        "matrix = np.array([[1,2,3],[4,5,6],[7,8,9]])\n",
        "print(matrix[1][1])\n"
      ],
      "metadata": {
        "colab": {
          "base_uri": "https://localhost:8080/"
        },
        "id": "IMyB2tlbgWFP",
        "outputId": "8a606ada-9486-46b0-c2ee-728b8062abcf"
      },
      "execution_count": null,
      "outputs": [
        {
          "output_type": "stream",
          "name": "stdout",
          "text": [
            "5\n"
          ]
        }
      ]
    },
    {
      "cell_type": "code",
      "source": [
        "import numpy as np\n",
        "matrix3 =np.array([[1, 3, 5, 8, 9],\n",
        "    [7, 6, 1, 2, 4],\n",
        "    [3, 5, 9, 7, 6]])\n",
        "print(matrix3)\n",
        "sub_mat = matrix3[0:2, 1:3].copy() #the copy method will not let the changes made in sub_array reflect in the main array\n",
        "print(sub_mat)\n",
        "sub_mat[:] = 7 #changes all values in sub mat to 7\n",
        "print(sub_mat)"
      ],
      "metadata": {
        "colab": {
          "base_uri": "https://localhost:8080/"
        },
        "id": "EyWD8BPmh1ht",
        "outputId": "e1310fbb-b20c-4ab9-872a-b297f5d944c2"
      },
      "execution_count": 9,
      "outputs": [
        {
          "output_type": "stream",
          "name": "stdout",
          "text": [
            "[[1 3 5 8 9]\n",
            " [7 6 1 2 4]\n",
            " [3 5 9 7 6]]\n",
            "[[3 5]\n",
            " [6 1]]\n",
            "[[7 7]\n",
            " [7 7]]\n"
          ]
        }
      ]
    },
    {
      "cell_type": "code",
      "source": [
        "matrix3[1:3,1:4] =0 #index 1,3 i.e 2nd row - 3rd row, index 1:4 i.e 2nd column - 4th column (counting from 1 not o)\n",
        "print('Matrix after modification: \\n', matrix3)\n"
      ],
      "metadata": {
        "id": "NFYjPEjuqPGb"
      },
      "execution_count": null,
      "outputs": []
    },
    {
      "cell_type": "code",
      "source": [
        "from google.colab import drive\n",
        "drive.mount('/content/drive')"
      ],
      "metadata": {
        "id": "lTNDRhLshHqf",
        "colab": {
          "base_uri": "https://localhost:8080/"
        },
        "outputId": "b72c53e0-ef4c-48c0-d328-b0844692c585"
      },
      "execution_count": 12,
      "outputs": [
        {
          "output_type": "stream",
          "name": "stdout",
          "text": [
            "Mounted at /content/drive\n"
          ]
        }
      ]
    },
    {
      "cell_type": "code",
      "source": [
        "rand_num = np.random.randint(1,10,10).reshape(2,5)\n",
        "print(rand_num)\n",
        "print(\"\")\n",
        "rand_num2 = np.random.randint(12,24,12).reshape(2,6)\n",
        "print(rand_num2)"
      ],
      "metadata": {
        "colab": {
          "base_uri": "https://localhost:8080/"
        },
        "id": "vQ2xhGWKynRy",
        "outputId": "a7c45523-f0b4-4ce4-b8bd-7b695bc72513"
      },
      "execution_count": 21,
      "outputs": [
        {
          "output_type": "stream",
          "name": "stdout",
          "text": [
            "[[7 8 4 4 6]\n",
            " [2 8 8 7 5]]\n",
            "\n",
            "[[15 16 19 23 20 17]\n",
            " [23 17 21 23 22 13]]\n"
          ]
        }
      ]
    },
    {
      "cell_type": "code",
      "source": [
        "np.save('Saved num array',  rand_num)\n"
      ],
      "metadata": {
        "id": "3GHsBprE2SVG"
      },
      "execution_count": 22,
      "outputs": []
    },
    {
      "cell_type": "code",
      "source": [
        "import numpy as np\n",
        "rand_num = np.random.randint(1,10,10).reshape(2,5)\n",
        "print(rand_num)\n",
        "print(\"\")\n",
        "rand_num2 = np.random.randint(12,24,12).reshape(2,6)\n",
        "print(rand_num2)\n",
        "np.savez('/content/drive/myDrive/Colab Notebooks/saved_file_names.npz', rand_num=rand_num, rand_num2=rand_num2)"
      ],
      "metadata": {
        "colab": {
          "base_uri": "https://localhost:8080/",
          "height": 495
        },
        "id": "cmXfrP3V6Lay",
        "outputId": "4ff2127e-d6d8-4272-ab54-34544722dddc"
      },
      "execution_count": 7,
      "outputs": [
        {
          "output_type": "stream",
          "name": "stdout",
          "text": [
            "[[3 8 9 5 8]\n",
            " [3 8 4 1 5]]\n",
            "\n",
            "[[17 23 22 14 21 22]\n",
            " [18 15 18 23 16 23]]\n"
          ]
        },
        {
          "output_type": "error",
          "ename": "FileNotFoundError",
          "evalue": "[Errno 2] No such file or directory: '/content/drive/myDrive/Colab Notebooks/saved_file_names.npz'",
          "traceback": [
            "\u001b[0;31m---------------------------------------------------------------------------\u001b[0m",
            "\u001b[0;31mFileNotFoundError\u001b[0m                         Traceback (most recent call last)",
            "\u001b[0;32m/tmp/ipython-input-4086592838.py\u001b[0m in \u001b[0;36m<cell line: 0>\u001b[0;34m()\u001b[0m\n\u001b[1;32m      5\u001b[0m \u001b[0mrand_num2\u001b[0m \u001b[0;34m=\u001b[0m \u001b[0mnp\u001b[0m\u001b[0;34m.\u001b[0m\u001b[0mrandom\u001b[0m\u001b[0;34m.\u001b[0m\u001b[0mrandint\u001b[0m\u001b[0;34m(\u001b[0m\u001b[0;36m12\u001b[0m\u001b[0;34m,\u001b[0m\u001b[0;36m24\u001b[0m\u001b[0;34m,\u001b[0m\u001b[0;36m12\u001b[0m\u001b[0;34m)\u001b[0m\u001b[0;34m.\u001b[0m\u001b[0mreshape\u001b[0m\u001b[0;34m(\u001b[0m\u001b[0;36m2\u001b[0m\u001b[0;34m,\u001b[0m\u001b[0;36m6\u001b[0m\u001b[0;34m)\u001b[0m\u001b[0;34m\u001b[0m\u001b[0;34m\u001b[0m\u001b[0m\n\u001b[1;32m      6\u001b[0m \u001b[0mprint\u001b[0m\u001b[0;34m(\u001b[0m\u001b[0mrand_num2\u001b[0m\u001b[0;34m)\u001b[0m\u001b[0;34m\u001b[0m\u001b[0;34m\u001b[0m\u001b[0m\n\u001b[0;32m----> 7\u001b[0;31m \u001b[0mnp\u001b[0m\u001b[0;34m.\u001b[0m\u001b[0msavez\u001b[0m\u001b[0;34m(\u001b[0m\u001b[0;34m'/content/drive/myDrive/Colab Notebooks/saved_file_names'\u001b[0m\u001b[0;34m,\u001b[0m  \u001b[0mrand_num\u001b[0m\u001b[0;34m=\u001b[0m\u001b[0mrand_num\u001b[0m\u001b[0;34m,\u001b[0m \u001b[0mrand_num2\u001b[0m\u001b[0;34m=\u001b[0m\u001b[0mrand_num2\u001b[0m\u001b[0;34m)\u001b[0m\u001b[0;34m\u001b[0m\u001b[0;34m\u001b[0m\u001b[0m\n\u001b[0m",
            "\u001b[0;32m/usr/local/lib/python3.11/dist-packages/numpy/lib/_npyio_impl.py\u001b[0m in \u001b[0;36msavez\u001b[0;34m(file, *args, **kwds)\u001b[0m\n\u001b[1;32m    665\u001b[0m \u001b[0;34m\u001b[0m\u001b[0m\n\u001b[1;32m    666\u001b[0m     \"\"\"\n\u001b[0;32m--> 667\u001b[0;31m     \u001b[0m_savez\u001b[0m\u001b[0;34m(\u001b[0m\u001b[0mfile\u001b[0m\u001b[0;34m,\u001b[0m \u001b[0margs\u001b[0m\u001b[0;34m,\u001b[0m \u001b[0mkwds\u001b[0m\u001b[0;34m,\u001b[0m \u001b[0;32mFalse\u001b[0m\u001b[0;34m)\u001b[0m\u001b[0;34m\u001b[0m\u001b[0;34m\u001b[0m\u001b[0m\n\u001b[0m\u001b[1;32m    668\u001b[0m \u001b[0;34m\u001b[0m\u001b[0m\n\u001b[1;32m    669\u001b[0m \u001b[0;34m\u001b[0m\u001b[0m\n",
            "\u001b[0;32m/usr/local/lib/python3.11/dist-packages/numpy/lib/_npyio_impl.py\u001b[0m in \u001b[0;36m_savez\u001b[0;34m(file, args, kwds, compress, allow_pickle, pickle_kwargs)\u001b[0m\n\u001b[1;32m    762\u001b[0m         \u001b[0mcompression\u001b[0m \u001b[0;34m=\u001b[0m \u001b[0mzipfile\u001b[0m\u001b[0;34m.\u001b[0m\u001b[0mZIP_STORED\u001b[0m\u001b[0;34m\u001b[0m\u001b[0;34m\u001b[0m\u001b[0m\n\u001b[1;32m    763\u001b[0m \u001b[0;34m\u001b[0m\u001b[0m\n\u001b[0;32m--> 764\u001b[0;31m     \u001b[0mzipf\u001b[0m \u001b[0;34m=\u001b[0m \u001b[0mzipfile_factory\u001b[0m\u001b[0;34m(\u001b[0m\u001b[0mfile\u001b[0m\u001b[0;34m,\u001b[0m \u001b[0mmode\u001b[0m\u001b[0;34m=\u001b[0m\u001b[0;34m\"w\"\u001b[0m\u001b[0;34m,\u001b[0m \u001b[0mcompression\u001b[0m\u001b[0;34m=\u001b[0m\u001b[0mcompression\u001b[0m\u001b[0;34m)\u001b[0m\u001b[0;34m\u001b[0m\u001b[0;34m\u001b[0m\u001b[0m\n\u001b[0m\u001b[1;32m    765\u001b[0m \u001b[0;34m\u001b[0m\u001b[0m\n\u001b[1;32m    766\u001b[0m     \u001b[0;32mfor\u001b[0m \u001b[0mkey\u001b[0m\u001b[0;34m,\u001b[0m \u001b[0mval\u001b[0m \u001b[0;32min\u001b[0m \u001b[0mnamedict\u001b[0m\u001b[0;34m.\u001b[0m\u001b[0mitems\u001b[0m\u001b[0;34m(\u001b[0m\u001b[0;34m)\u001b[0m\u001b[0;34m:\u001b[0m\u001b[0;34m\u001b[0m\u001b[0;34m\u001b[0m\u001b[0m\n",
            "\u001b[0;32m/usr/local/lib/python3.11/dist-packages/numpy/lib/_npyio_impl.py\u001b[0m in \u001b[0;36mzipfile_factory\u001b[0;34m(file, *args, **kwargs)\u001b[0m\n\u001b[1;32m    100\u001b[0m     \u001b[0;32mimport\u001b[0m \u001b[0mzipfile\u001b[0m\u001b[0;34m\u001b[0m\u001b[0;34m\u001b[0m\u001b[0m\n\u001b[1;32m    101\u001b[0m     \u001b[0mkwargs\u001b[0m\u001b[0;34m[\u001b[0m\u001b[0;34m'allowZip64'\u001b[0m\u001b[0;34m]\u001b[0m \u001b[0;34m=\u001b[0m \u001b[0;32mTrue\u001b[0m\u001b[0;34m\u001b[0m\u001b[0;34m\u001b[0m\u001b[0m\n\u001b[0;32m--> 102\u001b[0;31m     \u001b[0;32mreturn\u001b[0m \u001b[0mzipfile\u001b[0m\u001b[0;34m.\u001b[0m\u001b[0mZipFile\u001b[0m\u001b[0;34m(\u001b[0m\u001b[0mfile\u001b[0m\u001b[0;34m,\u001b[0m \u001b[0;34m*\u001b[0m\u001b[0margs\u001b[0m\u001b[0;34m,\u001b[0m \u001b[0;34m**\u001b[0m\u001b[0mkwargs\u001b[0m\u001b[0;34m)\u001b[0m\u001b[0;34m\u001b[0m\u001b[0;34m\u001b[0m\u001b[0m\n\u001b[0m\u001b[1;32m    103\u001b[0m \u001b[0;34m\u001b[0m\u001b[0m\n\u001b[1;32m    104\u001b[0m \u001b[0;34m\u001b[0m\u001b[0m\n",
            "\u001b[0;32m/usr/lib/python3.11/zipfile.py\u001b[0m in \u001b[0;36m__init__\u001b[0;34m(self, file, mode, compression, allowZip64, compresslevel, strict_timestamps, metadata_encoding)\u001b[0m\n\u001b[1;32m   1293\u001b[0m             \u001b[0;32mwhile\u001b[0m \u001b[0;32mTrue\u001b[0m\u001b[0;34m:\u001b[0m\u001b[0;34m\u001b[0m\u001b[0;34m\u001b[0m\u001b[0m\n\u001b[1;32m   1294\u001b[0m                 \u001b[0;32mtry\u001b[0m\u001b[0;34m:\u001b[0m\u001b[0;34m\u001b[0m\u001b[0;34m\u001b[0m\u001b[0m\n\u001b[0;32m-> 1295\u001b[0;31m                     \u001b[0mself\u001b[0m\u001b[0;34m.\u001b[0m\u001b[0mfp\u001b[0m \u001b[0;34m=\u001b[0m \u001b[0mio\u001b[0m\u001b[0;34m.\u001b[0m\u001b[0mopen\u001b[0m\u001b[0;34m(\u001b[0m\u001b[0mfile\u001b[0m\u001b[0;34m,\u001b[0m \u001b[0mfilemode\u001b[0m\u001b[0;34m)\u001b[0m\u001b[0;34m\u001b[0m\u001b[0;34m\u001b[0m\u001b[0m\n\u001b[0m\u001b[1;32m   1296\u001b[0m                 \u001b[0;32mexcept\u001b[0m \u001b[0mOSError\u001b[0m\u001b[0;34m:\u001b[0m\u001b[0;34m\u001b[0m\u001b[0;34m\u001b[0m\u001b[0m\n\u001b[1;32m   1297\u001b[0m                     \u001b[0;32mif\u001b[0m \u001b[0mfilemode\u001b[0m \u001b[0;32min\u001b[0m \u001b[0mmodeDict\u001b[0m\u001b[0;34m:\u001b[0m\u001b[0;34m\u001b[0m\u001b[0;34m\u001b[0m\u001b[0m\n",
            "\u001b[0;31mFileNotFoundError\u001b[0m: [Errno 2] No such file or directory: '/content/drive/myDrive/Colab Notebooks/saved_file_names.npz'"
          ]
        }
      ]
    },
    {
      "cell_type": "code",
      "source": [
        "loaded_arr = np.load('çontent/drive/myDrive/Colab_Notebooks/saved_file_names.npy')\n",
        "loaded_multi = np.load ('/content/drive/myDrive/Colab Notebooks/multiple_file_names.npz')\n",
        "print(loaded_arr)\n",
        "print(loaded_multi)\n",
        "\n",
        "print('1st matrix: \\n ', loaded_multi['rand_num'])\n",
        "print('2nd matrix: \\n ', loaded_multi['rand_num2'])"
      ],
      "metadata": {
        "id": "zehkEuTl82Df"
      },
      "execution_count": null,
      "outputs": []
    },
    {
      "cell_type": "code",
      "source": [
        "#we can also save them as text files.. especially if we want to open them with excel, R or other programming languages\n",
        "np.savetxt('çontent/drive/myDrive/Colab_Notebooks/text_file_names.txt', rand_num, delimiter=',')#delimiter means what comes between the elements, is it comma or??\n",
        "rand_num_txt = np.loadtxt ('/content/drive/myDrive/Colab Notebooks/text_file_names.txt', delimiter=',')\n",
        "\n",
        "print(rand_num)\n",
        "print(rand_num_txt)\n"
      ],
      "metadata": {
        "id": "_yDJuk3F8Uel"
      },
      "execution_count": null,
      "outputs": []
    }
  ]
}