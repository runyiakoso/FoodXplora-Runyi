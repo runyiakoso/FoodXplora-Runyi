{
  "cells": [
    {
      "cell_type": "markdown",
      "metadata": {
        "id": "view-in-github",
        "colab_type": "text"
      },
      "source": [
        "<a href=\"https://colab.research.google.com/github/runyiakoso/FoodXplora-Runyi/blob/master/Python_project_1.ipynb\" target=\"_parent\"><img src=\"https://colab.research.google.com/assets/colab-badge.svg\" alt=\"Open In Colab\"/></a>"
      ]
    },
    {
      "cell_type": "code",
      "execution_count": null,
      "metadata": {
        "colab": {
          "base_uri": "https://localhost:8080/"
        },
        "id": "VJRrDegZyIat",
        "outputId": "d988f0e2-b8a7-4c46-be6a-7a6330367346"
      },
      "outputs": [
        {
          "name": "stdout",
          "output_type": "stream",
          "text": [
            "The name of the Company is Carsons Ltd.\n"
          ]
        }
      ],
      "source": [
        "print(\"The name of the Company is Carsons Ltd.\")"
      ]
    },
    {
      "cell_type": "code",
      "execution_count": null,
      "metadata": {
        "colab": {
          "base_uri": "https://localhost:8080/"
        },
        "id": "dn3xnVcz0Lxa",
        "outputId": "6ffcc5fe-248b-43bc-f90c-b8532c0a9407"
      },
      "outputs": [
        {
          "name": "stdout",
          "output_type": "stream",
          "text": [
            "The Company was establised in 1996\n"
          ]
        }
      ],
      "source": [
        " print(\"The Company was establised in\", 1996)\n"
      ]
    },
    {
      "cell_type": "code",
      "execution_count": null,
      "metadata": {
        "colab": {
          "base_uri": "https://localhost:8080/"
        },
        "id": "ruTgUliedsro",
        "outputId": "b74df9db-161e-4c1a-9a39-c4d698991ba1"
      },
      "outputs": [
        {
          "name": "stdout",
          "output_type": "stream",
          "text": [
            "The name of the company is Car sons Ltd\n"
          ]
        }
      ],
      "source": [
        "##information is stored in variables\n",
        "company_name = 'Car sons Ltd'\n",
        "print('The name of the company is', company_name)"
      ]
    },
    {
      "cell_type": "code",
      "execution_count": null,
      "metadata": {
        "colab": {
          "base_uri": "https://localhost:8080/"
        },
        "id": "E9tRaCNVgKbi",
        "outputId": "221de119-08de-4507-ac20-08d3d433e0a6"
      },
      "outputs": [
        {
          "name": "stdout",
          "output_type": "stream",
          "text": [
            "The year the company was establised was in 1996\n"
          ]
        }
      ],
      "source": [
        "year_started = 1996\n",
        "print('The year the company was establised was in', year_started)"
      ]
    },
    {
      "cell_type": "code",
      "execution_count": null,
      "metadata": {
        "colab": {
          "base_uri": "https://localhost:8080/"
        },
        "id": "0okUMkkfkT35",
        "outputId": "7f88108c-791c-4514-d241-b4739945a569"
      },
      "outputs": [
        {
          "name": "stdout",
          "output_type": "stream",
          "text": [
            "The company's total turnover for 1996 is $12billion\n"
          ]
        }
      ],
      "source": [
        "company_turnover = '$12billion'\n",
        "print(\"The company's total turnover for\", year_started, 'is', company_turnover)"
      ]
    },
    {
      "cell_type": "code",
      "execution_count": null,
      "metadata": {
        "colab": {
          "base_uri": "https://localhost:8080/"
        },
        "id": "u6mUy5GLlNRP",
        "outputId": "f3813218-43dc-4eab-d4e0-da928df95daa"
      },
      "outputs": [
        {
          "data": {
            "text/plain": [
              "int"
            ]
          },
          "execution_count": 11,
          "metadata": {},
          "output_type": "execute_result"
        }
      ],
      "source": [
        "##Datatypes\n",
        "type(year_started)"
      ]
    },
    {
      "cell_type": "code",
      "execution_count": null,
      "metadata": {
        "colab": {
          "base_uri": "https://localhost:8080/"
        },
        "id": "7G8QGB8kl1SJ",
        "outputId": "c19760e4-6be4-4eab-bd63-e5203282a20e"
      },
      "outputs": [
        {
          "data": {
            "text/plain": [
              "str"
            ]
          },
          "execution_count": 12,
          "metadata": {},
          "output_type": "execute_result"
        }
      ],
      "source": [
        "type(company_turnover)"
      ]
    },
    {
      "cell_type": "code",
      "execution_count": null,
      "metadata": {
        "colab": {
          "base_uri": "https://localhost:8080/"
        },
        "id": "qwsvYDPTl8XU",
        "outputId": "8b47805a-65ff-4dca-9bbf-876cf7cb850b"
      },
      "outputs": [
        {
          "data": {
            "text/plain": [
              "float"
            ]
          },
          "execution_count": 15,
          "metadata": {},
          "output_type": "execute_result"
        }
      ],
      "source": [
        "test1 = 123.5\n",
        "type(test1)"
      ]
    },
    {
      "cell_type": "code",
      "execution_count": null,
      "metadata": {
        "colab": {
          "base_uri": "https://localhost:8080/"
        },
        "id": "QTJMfJB6mVV0",
        "outputId": "3ac56b44-7b12-4aee-abf2-f42099a1ed2e"
      },
      "outputs": [
        {
          "data": {
            "text/plain": [
              "str"
            ]
          },
          "execution_count": 14,
          "metadata": {},
          "output_type": "execute_result"
        }
      ],
      "source": [
        "test2= \"123\"\n",
        "type(test2)"
      ]
    },
    {
      "cell_type": "code",
      "execution_count": null,
      "metadata": {
        "colab": {
          "base_uri": "https://localhost:8080/"
        },
        "id": "sfQFPjiKmp92",
        "outputId": "56c381da-c91e-4ae6-cde0-cabbe1a6823b"
      },
      "outputs": [
        {
          "name": "stdout",
          "output_type": "stream",
          "text": [
            "The Price of 1 Sedan Car is $ 0.2\n",
            "The price of 2 Sedan Cars is 0.4\n"
          ]
        }
      ],
      "source": [
        "##Basic Operators\n",
        "price_sedan = 0.2\n",
        "print('The Price of 1 Sedan Car is $', price_sedan)\n",
        "price_updated = price_sedan + price_sedan\n",
        "print(\"The price of 2 Sedan Cars is\", price_updated)"
      ]
    },
    {
      "cell_type": "code",
      "execution_count": null,
      "metadata": {
        "colab": {
          "base_uri": "https://localhost:8080/"
        },
        "id": "pKiOS2UfpcwA",
        "outputId": "b2f57c8a-eb96-4569-e798-7776a1c4fd51"
      },
      "outputs": [
        {
          "name": "stdout",
          "output_type": "stream",
          "text": [
            "10.0\n"
          ]
        }
      ],
      "source": [
        "test3 = 10\n",
        "test4 = 20\n",
        "print(test4/2)"
      ]
    },
    {
      "cell_type": "code",
      "execution_count": null,
      "metadata": {
        "colab": {
          "base_uri": "https://localhost:8080/",
          "height": 35
        },
        "id": "PzCMLxtBsHS_",
        "outputId": "82eeb3cb-6fa2-4432-9b6c-ce9e9b41f686"
      },
      "outputs": [
        {
          "data": {
            "application/vnd.google.colaboratory.intrinsic+json": {
              "type": "string"
            },
            "text/plain": [
              "'1010'"
            ]
          },
          "execution_count": 19,
          "metadata": {},
          "output_type": "execute_result"
        }
      ],
      "source": [
        "'10'+'10' ##concatenate"
      ]
    },
    {
      "cell_type": "code",
      "execution_count": null,
      "metadata": {
        "colab": {
          "base_uri": "https://localhost:8080/",
          "height": 35
        },
        "id": "EqG49s9bsNzP",
        "outputId": "8ea9c945-589b-4396-e284-035eb86ce9a1"
      },
      "outputs": [
        {
          "data": {
            "application/vnd.google.colaboratory.intrinsic+json": {
              "type": "string"
            },
            "text/plain": [
              "'10101010'"
            ]
          },
          "execution_count": 20,
          "metadata": {},
          "output_type": "execute_result"
        }
      ],
      "source": [
        "\"10\" * 4"
      ]
    },
    {
      "cell_type": "code",
      "execution_count": null,
      "metadata": {
        "colab": {
          "base_uri": "https://localhost:8080/"
        },
        "id": "UQdIO2AiseZS",
        "outputId": "a4a8a5ce-1133-4176-d518-1b73c9bc9a15"
      },
      "outputs": [
        {
          "name": "stdout",
          "output_type": "stream",
          "text": [
            "Price of 10 Sedan cars in Millions $ is 2.0\n"
          ]
        }
      ],
      "source": [
        "##sales for the first 10 orders of Sedan cars\n",
        "price_final=price_sedan * 10\n",
        "print(\"Price of 10 Sedan cars in Millions $ is\", price_final)"
      ]
    },
    {
      "cell_type": "code",
      "execution_count": null,
      "metadata": {
        "colab": {
          "base_uri": "https://localhost:8080/"
        },
        "id": "0e3G0gWmtDAR",
        "outputId": "0f8899ca-af2e-476f-82c1-23374f8448b8"
      },
      "outputs": [
        {
          "name": "stdout",
          "output_type": "stream",
          "text": [
            "The average downtime hours for the last month is 0.125\n"
          ]
        }
      ],
      "source": [
        "downtime_hours = 30\n",
        "total_time = 240\n",
        "average_downtime = downtime_hours/total_time\n",
        "print(\"The average downtime hours for the last month is\", average_downtime)"
      ]
    },
    {
      "cell_type": "code",
      "execution_count": null,
      "metadata": {
        "colab": {
          "base_uri": "https://localhost:8080/"
        },
        "id": "gZGxlEAjwjue",
        "outputId": "4ca4b11c-3b5e-4d61-93c3-70c47555971e"
      },
      "outputs": [
        {
          "name": "stdout",
          "output_type": "stream",
          "text": [
            "the safety incidents per employee is 0.02806122448979592\n"
          ]
        }
      ],
      "source": [
        "total_employees = 1568\n",
        "safety_incidents = 44\n",
        "safety_per_employee = safety_incidents/total_employees\n",
        "print(\"the safety incidents per employee is\", safety_per_employee)"
      ]
    },
    {
      "cell_type": "code",
      "execution_count": null,
      "metadata": {
        "colab": {
          "base_uri": "https://localhost:8080/"
        },
        "id": "3yMKjn8_ywcH",
        "outputId": "dcbe1e18-8fd1-421a-b885-bafedaf8ab92"
      },
      "outputs": [
        {
          "name": "stdout",
          "output_type": "stream",
          "text": [
            "Cars: ['Sedan', 'Hatchback', 'SUV', 'MUV']\n"
          ]
        }
      ],
      "source": [
        "##Data structure\n",
        "##List - to store multiple information\n",
        "cars_type = ['Sedan','Hatchback','SUV',\"MUV\"]\n",
        "print('Cars:', cars_type)\n"
      ]
    },
    {
      "cell_type": "code",
      "execution_count": null,
      "metadata": {
        "colab": {
          "base_uri": "https://localhost:8080/"
        },
        "id": "-j-B7PZn0qvr",
        "outputId": "29067479-e53b-4ccf-cf1c-8eb2d0a3da08"
      },
      "outputs": [
        {
          "data": {
            "text/plain": [
              "15"
            ]
          },
          "execution_count": 28,
          "metadata": {},
          "output_type": "execute_result"
        }
      ],
      "source": [
        "milleage = [15, 19, 12,18]\n",
        "milleage[0]"
      ]
    },
    {
      "cell_type": "code",
      "execution_count": null,
      "metadata": {
        "colab": {
          "base_uri": "https://localhost:8080/"
        },
        "id": "2FjBl4Mk1gnz",
        "outputId": "b141fb46-f101-4bec-c75a-bfda20916f89"
      },
      "outputs": [
        {
          "data": {
            "text/plain": [
              "18"
            ]
          },
          "execution_count": 29,
          "metadata": {},
          "output_type": "execute_result"
        }
      ],
      "source": [
        "milleage[-1]"
      ]
    },
    {
      "cell_type": "code",
      "execution_count": null,
      "metadata": {
        "colab": {
          "base_uri": "https://localhost:8080/"
        },
        "id": "wk5st6rR17Bg",
        "outputId": "dbe01811-1ff1-4cc5-e65c-7302f8a68dd2"
      },
      "outputs": [
        {
          "data": {
            "text/plain": [
              "[15, 19]"
            ]
          },
          "execution_count": 35,
          "metadata": {},
          "output_type": "execute_result"
        }
      ],
      "source": [
        "milleage[0:2]"
      ]
    },
    {
      "cell_type": "code",
      "execution_count": null,
      "metadata": {
        "colab": {
          "base_uri": "https://localhost:8080/"
        },
        "id": "Tu-MdwJu2Yiq",
        "outputId": "56f13a96-c8ba-4b61-c640-d0213525d2fa"
      },
      "outputs": [
        {
          "data": {
            "text/plain": [
              "[19, 12]"
            ]
          },
          "execution_count": 37,
          "metadata": {},
          "output_type": "execute_result"
        }
      ],
      "source": [
        "milleage[1:3]"
      ]
    },
    {
      "cell_type": "code",
      "execution_count": null,
      "metadata": {
        "colab": {
          "base_uri": "https://localhost:8080/"
        },
        "id": "knLlbXvs2j_-",
        "outputId": "b6fbf3f7-bcc4-44e0-cb0b-2e8133c4f027"
      },
      "outputs": [
        {
          "name": "stdout",
          "output_type": "stream",
          "text": [
            "[15, 4, 5, 6, 19, 12, 18, 45, 50]\n",
            "[45, 50]\n"
          ]
        }
      ],
      "source": [
        "milleage1 = [15, 19, 12, 18, 45, 50]\n",
        "milleage1[1:1]=[4,5,6]\n",
        "print(milleage1)\n",
        "##print(milleage1[7:9])\n",
        "print(milleage1[-2:])\n"
      ]
    },
    {
      "cell_type": "code",
      "execution_count": null,
      "metadata": {
        "colab": {
          "base_uri": "https://localhost:8080/"
        },
        "id": "tUPsbZAj-j8r",
        "outputId": "dc3391db-47a0-4951-fad6-592f9aefa4c3"
      },
      "outputs": [
        {
          "name": "stdout",
          "output_type": "stream",
          "text": [
            "The sales values to date are:\n",
            "sedan: 200\n",
            "Hatchback: 652\n",
            "MUV: 412\n",
            "SUV: 123\n"
          ]
        },
        {
          "data": {
            "text/plain": [
              "1387"
            ]
          },
          "execution_count": 27,
          "metadata": {},
          "output_type": "execute_result"
        }
      ],
      "source": [
        "sales = [200,652,412,123]\n",
        "print(\"The sales values to date are:\")\n",
        "print('sedan:',sales[0])\n",
        "print('Hatchback:',sales[1])\n",
        "print('MUV:',sales[2])\n",
        "print('SUV:', sales[3])\n",
        "total_sales=sum(sales)\n",
        "total_sales"
      ]
    },
    {
      "cell_type": "code",
      "execution_count": null,
      "metadata": {
        "colab": {
          "base_uri": "https://localhost:8080/"
        },
        "id": "VFJnxeE9h90M",
        "outputId": "96dbc3da-0ef4-43cf-d388-6e9e6988a6ed"
      },
      "outputs": [
        {
          "name": "stdout",
          "output_type": "stream",
          "text": [
            "[200, 652, 412]\n"
          ]
        }
      ],
      "source": [
        "sales.pop(-1)\n",
        "print(sales)"
      ]
    },
    {
      "cell_type": "code",
      "execution_count": null,
      "metadata": {
        "id": "OyocyvzSBQgM"
      },
      "outputs": [],
      "source": []
    },
    {
      "cell_type": "code",
      "execution_count": null,
      "metadata": {
        "colab": {
          "base_uri": "https://localhost:8080/",
          "height": 228
        },
        "id": "xsV5mG433895",
        "outputId": "b5b1452e-2e63-4125-be5d-48cbfddc051c"
      },
      "outputs": [
        {
          "ename": "TypeError",
          "evalue": "'tuple' object does not support item assignment",
          "output_type": "error",
          "traceback": [
            "\u001b[0;31m---------------------------------------------------------------------------\u001b[0m",
            "\u001b[0;31mTypeError\u001b[0m                                 Traceback (most recent call last)",
            "\u001b[0;32m/tmp/ipython-input-32-4045591919.py\u001b[0m in \u001b[0;36m<cell line: 0>\u001b[0;34m()\u001b[0m\n\u001b[1;32m      3\u001b[0m \u001b[0mtype\u001b[0m\u001b[0;34m(\u001b[0m\u001b[0mtest\u001b[0m\u001b[0;34m)\u001b[0m\u001b[0;34m\u001b[0m\u001b[0;34m\u001b[0m\u001b[0m\n\u001b[1;32m      4\u001b[0m \u001b[0mtest\u001b[0m\u001b[0;34m[\u001b[0m\u001b[0;36m1\u001b[0m\u001b[0;34m]\u001b[0m\u001b[0;34m\u001b[0m\u001b[0;34m\u001b[0m\u001b[0m\n\u001b[0;32m----> 5\u001b[0;31m \u001b[0mtest\u001b[0m\u001b[0;34m[\u001b[0m\u001b[0;36m0\u001b[0m\u001b[0;34m]\u001b[0m\u001b[0;34m=\u001b[0m\u001b[0;36m20\u001b[0m\u001b[0;34m\u001b[0m\u001b[0;34m\u001b[0m\u001b[0m\n\u001b[0m\u001b[1;32m      6\u001b[0m \u001b[0mtest\u001b[0m\u001b[0;34m\u001b[0m\u001b[0;34m\u001b[0m\u001b[0m\n",
            "\u001b[0;31mTypeError\u001b[0m: 'tuple' object does not support item assignment"
          ]
        }
      ],
      "source": [
        "##Tuples - immutable- for fixed values\n",
        "test=(1,2,3)\n",
        "type(test)\n",
        "test[1]\n",
        "test[0]=20\n",
        "test\n",
        "##means, values in tuples cant be changed, hence the error."
      ]
    },
    {
      "cell_type": "code",
      "execution_count": null,
      "metadata": {
        "colab": {
          "base_uri": "https://localhost:8080/"
        },
        "id": "joVgciw_Han0",
        "outputId": "b9b2b644-64a8-40eb-d16c-8eea15351f25"
      },
      "outputs": [
        {
          "data": {
            "text/plain": [
              "(10, 2, 3)"
            ]
          },
          "execution_count": 36,
          "metadata": {},
          "output_type": "execute_result"
        }
      ],
      "source": [
        "##To change elements in tuple, changet the tuple to list\n",
        "test= list(test)\n",
        "type(test)\n",
        "test[0]= 10\n",
        "test=tuple(test)\n",
        "test"
      ]
    },
    {
      "cell_type": "markdown",
      "metadata": {
        "id": "KyjD6iJ3D6Y8"
      },
      "source": []
    },
    {
      "cell_type": "code",
      "execution_count": null,
      "metadata": {
        "colab": {
          "base_uri": "https://localhost:8080/"
        },
        "id": "jrYzsV2zEiwY",
        "outputId": "1eef1a40-da6c-4d79-935f-673e026978a3"
      },
      "outputs": [
        {
          "name": "stdout",
          "output_type": "stream",
          "text": [
            "the number of seats for each type of car are (5, 4, 6, 8)\n"
          ]
        },
        {
          "data": {
            "text/plain": [
              "tuple"
            ]
          },
          "execution_count": 20,
          "metadata": {},
          "output_type": "execute_result"
        }
      ],
      "source": [
        "sitting = (5,4,6,8)\n",
        "print('the number of seats for each type of car are', sitting)\n",
        "type(sitting)"
      ]
    },
    {
      "cell_type": "code",
      "execution_count": null,
      "metadata": {
        "colab": {
          "base_uri": "https://localhost:8080/"
        },
        "id": "qsNtFru9M2My",
        "outputId": "163e9fd0-3858-4f65-e3a1-6c14ab5ff474"
      },
      "outputs": [
        {
          "name": "stdout",
          "output_type": "stream",
          "text": [
            "The engine size for each car is:\n",
            "Sedan: 2200\n",
            "Hatchback: 2800\n",
            "MUV: 2500\n",
            "SUV: 2000\n"
          ]
        }
      ],
      "source": [
        "car_engine_size =(2200,2800,2500,2000)\n",
        "print(\"The engine size for each car is:\")\n",
        "print(\"Sedan:\",car_engine_size[0])\n",
        "print(\"Hatchback:\", car_engine_size[1])\n",
        "print(\"MUV:\", car_engine_size[2])\n",
        "print(\"SUV:\", car_engine_size[3])"
      ]
    },
    {
      "cell_type": "code",
      "execution_count": null,
      "metadata": {
        "colab": {
          "base_uri": "https://localhost:8080/"
        },
        "id": "b9u_3VZENfkL",
        "outputId": "d9c56438-90fa-4293-afe2-b2e6db07c38e"
      },
      "outputs": [
        {
          "data": {
            "text/plain": [
              "{'name': 'Runyi', 'age': 18, 'state': 'Lagos'}"
            ]
          },
          "execution_count": 4,
          "metadata": {},
          "output_type": "execute_result"
        }
      ],
      "source": [
        "##Dictionary - Key/value pair\n",
        "test={\n",
        "    'name' : 'Runyi',\n",
        "    'age' : 18,\n",
        "    'state': 'Lagos'\n",
        "}\n",
        "test"
      ]
    },
    {
      "cell_type": "code",
      "execution_count": null,
      "metadata": {
        "colab": {
          "base_uri": "https://localhost:8080/"
        },
        "id": "VKDxQ3wjTDEG",
        "outputId": "24132287-fd5d-4b33-fafe-82a01b5afd2b"
      },
      "outputs": [
        {
          "data": {
            "text/plain": [
              "dict"
            ]
          },
          "execution_count": 5,
          "metadata": {},
          "output_type": "execute_result"
        }
      ],
      "source": [
        "type(test)"
      ]
    },
    {
      "cell_type": "code",
      "execution_count": null,
      "metadata": {
        "colab": {
          "base_uri": "https://localhost:8080/",
          "height": 35
        },
        "id": "BoYq1tN84UUy",
        "outputId": "44846e8a-11b9-437c-92ec-8aafe8879f2b"
      },
      "outputs": [
        {
          "data": {
            "application/vnd.google.colaboratory.intrinsic+json": {
              "type": "string"
            },
            "text/plain": [
              "'Runyi'"
            ]
          },
          "execution_count": 7,
          "metadata": {},
          "output_type": "execute_result"
        }
      ],
      "source": [
        "test['name']"
      ]
    },
    {
      "cell_type": "code",
      "execution_count": null,
      "metadata": {
        "colab": {
          "base_uri": "https://localhost:8080/"
        },
        "id": "cFuVgyub4YEo",
        "outputId": "69d8574d-96d4-4211-d314-e5612f820dbe"
      },
      "outputs": [
        {
          "data": {
            "text/plain": [
              "{'name': 'Mike', 'age': 18, 'state': 'Lagos'}"
            ]
          },
          "execution_count": 9,
          "metadata": {},
          "output_type": "execute_result"
        }
      ],
      "source": [
        " test['name'] ='Mike'\n",
        " test"
      ]
    },
    {
      "cell_type": "code",
      "execution_count": null,
      "metadata": {
        "colab": {
          "base_uri": "https://localhost:8080/"
        },
        "id": "bYhb0dVT4vHW",
        "outputId": "3859c966-617d-44ba-986f-bca8315572d3"
      },
      "outputs": [
        {
          "data": {
            "text/plain": [
              "{'name': 'Mike', 'age': 18, 'state': ['Delta', 'Osun']}"
            ]
          },
          "execution_count": 11,
          "metadata": {},
          "output_type": "execute_result"
        }
      ],
      "source": [
        "test['state'] = ['Delta', 'Osun']\n",
        "test"
      ]
    },
    {
      "cell_type": "code",
      "execution_count": null,
      "metadata": {
        "colab": {
          "base_uri": "https://localhost:8080/"
        },
        "id": "9_lEDqxS5Wr_",
        "outputId": "c0158fd4-4e15-4d07-dd70-a4bb75087723"
      },
      "outputs": [
        {
          "data": {
            "text/plain": [
              "dict_keys(['name', 'age', 'state'])"
            ]
          },
          "execution_count": 12,
          "metadata": {},
          "output_type": "execute_result"
        }
      ],
      "source": [
        "test.keys()"
      ]
    },
    {
      "cell_type": "code",
      "execution_count": null,
      "metadata": {
        "colab": {
          "base_uri": "https://localhost:8080/"
        },
        "id": "nBrwas2R6a7V",
        "outputId": "1a284857-2cf6-43ea-9fe7-6b0c2fa0623c"
      },
      "outputs": [
        {
          "data": {
            "text/plain": [
              "dict_values(['Mike', 18, ['Delta', 'Osun']])"
            ]
          },
          "execution_count": 13,
          "metadata": {},
          "output_type": "execute_result"
        }
      ],
      "source": [
        "test.values()"
      ]
    },
    {
      "cell_type": "code",
      "execution_count": null,
      "metadata": {
        "colab": {
          "base_uri": "https://localhost:8080/"
        },
        "id": "s4OfLO6c6eVf",
        "outputId": "9c9c17dc-9c2c-4c62-9b69-6cedfcfd2845"
      },
      "outputs": [
        {
          "name": "stdout",
          "output_type": "stream",
          "text": [
            "Sales last Month: {'sedan': 2, 'Hatchback': 3, 'SUV': 1.5, 'Hybrid': 0}\n"
          ]
        }
      ],
      "source": [
        "sales_last_month = {\n",
        "    \"sedan\" : 2,\n",
        "    'Hatchback': 3,\n",
        "    'SUV': 1.5,\n",
        "    'Hybrid' : 0\n",
        "}\n",
        "print('Sales last Month:', sales_last_month)"
      ]
    },
    {
      "cell_type": "code",
      "execution_count": null,
      "metadata": {
        "colab": {
          "base_uri": "https://localhost:8080/"
        },
        "id": "HpZ_G6waIjC4",
        "outputId": "5b8b212f-997d-481e-d52c-00dce2ef911d"
      },
      "outputs": [
        {
          "data": {
            "text/plain": [
              "True"
            ]
          },
          "execution_count": 24,
          "metadata": {},
          "output_type": "execute_result"
        }
      ],
      "source": [
        "sales_last_month['Hatchback'] > sales_last_month['SUV']"
      ]
    },
    {
      "cell_type": "code",
      "execution_count": null,
      "metadata": {
        "colab": {
          "base_uri": "https://localhost:8080/"
        },
        "id": "gCEnD01b7qM6",
        "outputId": "4db40fd3-0560-4f1b-eb5f-1f524571dcd8"
      },
      "outputs": [
        {
          "name": "stdout",
          "output_type": "stream",
          "text": [
            "dict_keys(['sedan', 'Hatchback', 'SUV', 'Hybrid'])\n"
          ]
        }
      ],
      "source": [
        "print(sales_last_month.keys())"
      ]
    },
    {
      "cell_type": "code",
      "execution_count": null,
      "metadata": {
        "colab": {
          "base_uri": "https://localhost:8080/"
        },
        "id": "TOtXni677XsP",
        "outputId": "e8c94112-fc3c-488d-d388-b2fb5bb126a8"
      },
      "outputs": [
        {
          "name": "stdout",
          "output_type": "stream",
          "text": [
            "dict_values([2, 3, 1.5, 0])\n"
          ]
        }
      ],
      "source": [
        "print(sales_last_month.values())"
      ]
    },
    {
      "cell_type": "code",
      "execution_count": null,
      "metadata": {
        "colab": {
          "base_uri": "https://localhost:8080/"
        },
        "id": "2hnmoc577r3e",
        "outputId": "520aeb9f-2159-4306-e69c-d43a99a2fbd8"
      },
      "outputs": [
        {
          "data": {
            "text/plain": [
              "{'sedan': 2, 'Hatchback': 3, 'SUV': 1.5, 'Hybrid': 0.25}"
            ]
          },
          "execution_count": 19,
          "metadata": {},
          "output_type": "execute_result"
        }
      ],
      "source": [
        "sales_last_month['Hybrid'] = 0.25\n",
        "sales_last_month"
      ]
    },
    {
      "cell_type": "code",
      "execution_count": null,
      "metadata": {
        "colab": {
          "base_uri": "https://localhost:8080/"
        },
        "id": "Yrl7olSX8TIB",
        "outputId": "06ace2e9-85b8-4fbe-ba5a-69bddcd06225"
      },
      "outputs": [
        {
          "data": {
            "text/plain": [
              "False"
            ]
          },
          "execution_count": 28,
          "metadata": {},
          "output_type": "execute_result"
        }
      ],
      "source": [
        "##Comparison Operator - gives answers in true or false\n",
        "name = 'Runyi'\n",
        "name == 'Tade'"
      ]
    },
    {
      "cell_type": "code",
      "execution_count": null,
      "metadata": {
        "colab": {
          "base_uri": "https://localhost:8080/"
        },
        "id": "xKJjCqddIHqa",
        "outputId": "d88ba209-5e0a-4fba-fae2-2e14df898505"
      },
      "outputs": [
        {
          "data": {
            "text/plain": [
              "False"
            ]
          },
          "execution_count": 29,
          "metadata": {},
          "output_type": "execute_result"
        }
      ],
      "source": [
        "100 > 1000"
      ]
    },
    {
      "cell_type": "code",
      "execution_count": null,
      "metadata": {
        "id": "BLYv_bFMJpON"
      },
      "outputs": [],
      "source": [
        "if condition:\n",
        "  xxxxx\n",
        "  llll\n",
        "else:\n",
        "  xxxxx\n",
        "  vvvvv\n"
      ]
    },
    {
      "cell_type": "code",
      "execution_count": 9,
      "metadata": {
        "colab": {
          "base_uri": "https://localhost:8080/"
        },
        "id": "v512TkWHMQK9",
        "outputId": "42a9b3f5-8430-472a-e1d1-a73fe04a198c"
      },
      "outputs": [
        {
          "output_type": "stream",
          "name": "stdout",
          "text": [
            "Ratings of each car {'Sedan_1': 64, 'Sedan_2': 49, 'Hatchback_1': 59, 'Hatchback_2': 78, 'Suv_1': 32, 'Suv_2': 84, 'Muv_1': 21, 'Muv_2': 31}\n"
          ]
        }
      ],
      "source": [
        "cars_ratings ={\n",
        "    'Sedan_1' : 64,\n",
        "    'Sedan_2' : 49,\n",
        "    'Hatchback_1' : 59,\n",
        "    'Hatchback_2' : 78,\n",
        "    'Suv_1' : 32,\n",
        "    'Suv_2': 84,\n",
        "    'Muv_1' : 21,\n",
        "    'Muv_2' : 31}\n",
        "print('Ratings of each car', cars_ratings)"
      ]
    },
    {
      "cell_type": "code",
      "source": [
        "if cars_ratings['Sedan_2'] > 50:\n",
        "  print('Sedan_2 is good performer')\n",
        "else:\n",
        "  print('Sedan_2 is not a good performer')"
      ],
      "metadata": {
        "colab": {
          "base_uri": "https://localhost:8080/"
        },
        "id": "65QMB6V1ow0a",
        "outputId": "c7b85317-2838-4d19-dc89-5e126a9321d0"
      },
      "execution_count": 10,
      "outputs": [
        {
          "output_type": "stream",
          "name": "stdout",
          "text": [
            "Sedan_2 is not a good performer\n"
          ]
        }
      ]
    },
    {
      "cell_type": "code",
      "source": [
        "car = \"Muv_1\"\n",
        "if cars_ratings[car] > 50:\n",
        "   print(car, 'is a good performer')\n",
        "else:\n",
        "  print(car, 'is not a good performer')\n"
      ],
      "metadata": {
        "id": "xWTkURBfj0Df",
        "colab": {
          "base_uri": "https://localhost:8080/"
        },
        "outputId": "08400786-644a-47d1-c62f-08fade93fc90"
      },
      "execution_count": 15,
      "outputs": [
        {
          "output_type": "stream",
          "name": "stdout",
          "text": [
            "Muv_1 is not a good performer\n"
          ]
        }
      ]
    },
    {
      "cell_type": "code",
      "source": [
        "## if we want to check if all car types are good performers or not, we use for loop\n",
        "for car in cars_ratings:\n",
        "  if cars_ratings[car]>50:\n",
        "    print(car, 'is a good performer')\n",
        " ## else:\n",
        "     ## print(car, 'is not a good performer')\n"
      ],
      "metadata": {
        "colab": {
          "base_uri": "https://localhost:8080/"
        },
        "id": "yzHnqbJFpm5u",
        "outputId": "6f05c85c-ff33-4880-e578-0858fd51bf27"
      },
      "execution_count": 17,
      "outputs": [
        {
          "output_type": "stream",
          "name": "stdout",
          "text": [
            "Sedan_1 is a good performer\n",
            "Hatchback_1 is a good performer\n",
            "Hatchback_2 is a good performer\n",
            "Suv_2 is a good performer\n"
          ]
        }
      ]
    },
    {
      "cell_type": "code",
      "source": [],
      "metadata": {
        "id": "1UrI1tl3redj"
      },
      "execution_count": null,
      "outputs": []
    }
  ],
  "metadata": {
    "colab": {
      "provenance": [],
      "authorship_tag": "ABX9TyPx34VqHn7f7JaQGx+JJluc",
      "include_colab_link": true
    },
    "kernelspec": {
      "display_name": "Python 3",
      "name": "python3"
    },
    "language_info": {
      "name": "python"
    }
  },
  "nbformat": 4,
  "nbformat_minor": 0
}