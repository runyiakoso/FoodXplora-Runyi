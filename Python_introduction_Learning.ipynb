{
  "cells": [
    {
      "cell_type": "markdown",
      "metadata": {
        "id": "view-in-github",
        "colab_type": "text"
      },
      "source": [
        "<a href=\"https://colab.research.google.com/github/runyiakoso/FoodXplora-Runyi/blob/master/Python_introduction_Learning.ipynb\" target=\"_parent\"><img src=\"https://colab.research.google.com/assets/colab-badge.svg\" alt=\"Open In Colab\"/></a>"
      ]
    },
    {
      "cell_type": "markdown",
      "source": [
        "# Carsons Ltd."
      ],
      "metadata": {
        "id": "SFPdhgtSyT3I"
      }
    },
    {
      "cell_type": "code",
      "execution_count": null,
      "metadata": {
        "colab": {
          "base_uri": "https://localhost:8080/"
        },
        "id": "VJRrDegZyIat",
        "outputId": "d988f0e2-b8a7-4c46-be6a-7a6330367346"
      },
      "outputs": [
        {
          "name": "stdout",
          "output_type": "stream",
          "text": [
            "The name of the Company is Carsons Ltd.\n"
          ]
        }
      ],
      "source": [
        "print(\"The name of the Company is Carsons Ltd.\")"
      ]
    },
    {
      "cell_type": "code",
      "execution_count": null,
      "metadata": {
        "colab": {
          "base_uri": "https://localhost:8080/"
        },
        "id": "dn3xnVcz0Lxa",
        "outputId": "6ffcc5fe-248b-43bc-f90c-b8532c0a9407"
      },
      "outputs": [
        {
          "name": "stdout",
          "output_type": "stream",
          "text": [
            "The Company was establised in 1996\n"
          ]
        }
      ],
      "source": [
        " print(\"The Company was establised in\", 1996)\n"
      ]
    },
    {
      "cell_type": "code",
      "execution_count": null,
      "metadata": {
        "colab": {
          "base_uri": "https://localhost:8080/"
        },
        "id": "ruTgUliedsro",
        "outputId": "b74df9db-161e-4c1a-9a39-c4d698991ba1"
      },
      "outputs": [
        {
          "name": "stdout",
          "output_type": "stream",
          "text": [
            "The name of the company is Car sons Ltd\n"
          ]
        }
      ],
      "source": [
        "##information is stored in variables\n",
        "company_name = 'Car sons Ltd'\n",
        "print('The name of the company is', company_name)"
      ]
    },
    {
      "cell_type": "code",
      "execution_count": null,
      "metadata": {
        "colab": {
          "base_uri": "https://localhost:8080/"
        },
        "id": "E9tRaCNVgKbi",
        "outputId": "221de119-08de-4507-ac20-08d3d433e0a6"
      },
      "outputs": [
        {
          "name": "stdout",
          "output_type": "stream",
          "text": [
            "The year the company was establised was in 1996\n"
          ]
        }
      ],
      "source": [
        "year_started = 1996\n",
        "print('The year the company was establised was in', year_started)"
      ]
    },
    {
      "cell_type": "code",
      "execution_count": null,
      "metadata": {
        "colab": {
          "base_uri": "https://localhost:8080/"
        },
        "id": "0okUMkkfkT35",
        "outputId": "7f88108c-791c-4514-d241-b4739945a569"
      },
      "outputs": [
        {
          "name": "stdout",
          "output_type": "stream",
          "text": [
            "The company's total turnover for 1996 is $12billion\n"
          ]
        }
      ],
      "source": [
        "company_turnover = '$12billion'\n",
        "print(\"The company's total turnover for\", year_started, 'is', company_turnover)"
      ]
    },
    {
      "cell_type": "code",
      "execution_count": null,
      "metadata": {
        "colab": {
          "base_uri": "https://localhost:8080/"
        },
        "id": "u6mUy5GLlNRP",
        "outputId": "f3813218-43dc-4eab-d4e0-da928df95daa"
      },
      "outputs": [
        {
          "data": {
            "text/plain": [
              "int"
            ]
          },
          "execution_count": 11,
          "metadata": {},
          "output_type": "execute_result"
        }
      ],
      "source": [
        "##Datatypes\n",
        "type(year_started)"
      ]
    },
    {
      "cell_type": "code",
      "execution_count": null,
      "metadata": {
        "colab": {
          "base_uri": "https://localhost:8080/"
        },
        "id": "7G8QGB8kl1SJ",
        "outputId": "c19760e4-6be4-4eab-bd63-e5203282a20e"
      },
      "outputs": [
        {
          "data": {
            "text/plain": [
              "str"
            ]
          },
          "execution_count": 12,
          "metadata": {},
          "output_type": "execute_result"
        }
      ],
      "source": [
        "type(company_turnover)"
      ]
    },
    {
      "cell_type": "code",
      "execution_count": null,
      "metadata": {
        "colab": {
          "base_uri": "https://localhost:8080/"
        },
        "id": "qwsvYDPTl8XU",
        "outputId": "8b47805a-65ff-4dca-9bbf-876cf7cb850b"
      },
      "outputs": [
        {
          "data": {
            "text/plain": [
              "float"
            ]
          },
          "execution_count": 15,
          "metadata": {},
          "output_type": "execute_result"
        }
      ],
      "source": [
        "test1 = 123.5\n",
        "type(test1)"
      ]
    },
    {
      "cell_type": "code",
      "execution_count": null,
      "metadata": {
        "colab": {
          "base_uri": "https://localhost:8080/"
        },
        "id": "QTJMfJB6mVV0",
        "outputId": "3ac56b44-7b12-4aee-abf2-f42099a1ed2e"
      },
      "outputs": [
        {
          "data": {
            "text/plain": [
              "str"
            ]
          },
          "execution_count": 14,
          "metadata": {},
          "output_type": "execute_result"
        }
      ],
      "source": [
        "test2= \"123\"\n",
        "type(test2)"
      ]
    },
    {
      "cell_type": "code",
      "execution_count": null,
      "metadata": {
        "colab": {
          "base_uri": "https://localhost:8080/"
        },
        "id": "sfQFPjiKmp92",
        "outputId": "b9bdf9ae-1b1f-47d1-ea66-702e41f85ff3"
      },
      "outputs": [
        {
          "output_type": "stream",
          "name": "stdout",
          "text": [
            "The Price of 1 Sedan Car is $ 0.2\n",
            "The price of 2 Sedan Cars is $ 0.4\n"
          ]
        }
      ],
      "source": [
        "##Basic Operators\n",
        "price_sedan = 0.2\n",
        "print('The Price of 1 Sedan Car is $', price_sedan)\n",
        "price_updated = price_sedan + price_sedan\n",
        "print(\"The price of 2 Sedan Cars is $\", price_updated)"
      ]
    },
    {
      "cell_type": "code",
      "execution_count": null,
      "metadata": {
        "colab": {
          "base_uri": "https://localhost:8080/"
        },
        "id": "pKiOS2UfpcwA",
        "outputId": "b2f57c8a-eb96-4569-e798-7776a1c4fd51"
      },
      "outputs": [
        {
          "name": "stdout",
          "output_type": "stream",
          "text": [
            "10.0\n"
          ]
        }
      ],
      "source": [
        "test3 = 10\n",
        "test4 = 20\n",
        "print(test4/2)"
      ]
    },
    {
      "cell_type": "code",
      "execution_count": null,
      "metadata": {
        "colab": {
          "base_uri": "https://localhost:8080/",
          "height": 35
        },
        "id": "PzCMLxtBsHS_",
        "outputId": "82eeb3cb-6fa2-4432-9b6c-ce9e9b41f686"
      },
      "outputs": [
        {
          "data": {
            "application/vnd.google.colaboratory.intrinsic+json": {
              "type": "string"
            },
            "text/plain": [
              "'1010'"
            ]
          },
          "execution_count": 19,
          "metadata": {},
          "output_type": "execute_result"
        }
      ],
      "source": [
        "'10'+'10' ##concatenate"
      ]
    },
    {
      "cell_type": "code",
      "execution_count": null,
      "metadata": {
        "colab": {
          "base_uri": "https://localhost:8080/",
          "height": 35
        },
        "id": "EqG49s9bsNzP",
        "outputId": "8ea9c945-589b-4396-e284-035eb86ce9a1"
      },
      "outputs": [
        {
          "data": {
            "application/vnd.google.colaboratory.intrinsic+json": {
              "type": "string"
            },
            "text/plain": [
              "'10101010'"
            ]
          },
          "execution_count": 20,
          "metadata": {},
          "output_type": "execute_result"
        }
      ],
      "source": [
        "\"10\" * 4"
      ]
    },
    {
      "cell_type": "code",
      "execution_count": null,
      "metadata": {
        "colab": {
          "base_uri": "https://localhost:8080/"
        },
        "id": "UQdIO2AiseZS",
        "outputId": "a4a8a5ce-1133-4176-d518-1b73c9bc9a15"
      },
      "outputs": [
        {
          "name": "stdout",
          "output_type": "stream",
          "text": [
            "Price of 10 Sedan cars in Millions $ is 2.0\n"
          ]
        }
      ],
      "source": [
        "##sales for the first 10 orders of Sedan cars\n",
        "price_final=price_sedan * 10\n",
        "print(\"Price of 10 Sedan cars in Millions $ is\", price_final)"
      ]
    },
    {
      "cell_type": "code",
      "execution_count": null,
      "metadata": {
        "colab": {
          "base_uri": "https://localhost:8080/"
        },
        "id": "0e3G0gWmtDAR",
        "outputId": "0f8899ca-af2e-476f-82c1-23374f8448b8"
      },
      "outputs": [
        {
          "name": "stdout",
          "output_type": "stream",
          "text": [
            "The average downtime hours for the last month is 0.125\n"
          ]
        }
      ],
      "source": [
        "downtime_hours = 30\n",
        "total_time = 240\n",
        "average_downtime = downtime_hours/total_time\n",
        "print(\"The average downtime hours for the last month is\", average_downtime)"
      ]
    },
    {
      "cell_type": "code",
      "execution_count": null,
      "metadata": {
        "colab": {
          "base_uri": "https://localhost:8080/"
        },
        "id": "gZGxlEAjwjue",
        "outputId": "4ca4b11c-3b5e-4d61-93c3-70c47555971e"
      },
      "outputs": [
        {
          "name": "stdout",
          "output_type": "stream",
          "text": [
            "the safety incidents per employee is 0.02806122448979592\n"
          ]
        }
      ],
      "source": [
        "total_employees = 1568\n",
        "safety_incidents = 44\n",
        "safety_per_employee = safety_incidents/total_employees\n",
        "print(\"the safety incidents per employee is\", safety_per_employee)"
      ]
    },
    {
      "cell_type": "code",
      "execution_count": null,
      "metadata": {
        "colab": {
          "base_uri": "https://localhost:8080/"
        },
        "id": "3yMKjn8_ywcH",
        "outputId": "dcbe1e18-8fd1-421a-b885-bafedaf8ab92"
      },
      "outputs": [
        {
          "name": "stdout",
          "output_type": "stream",
          "text": [
            "Cars: ['Sedan', 'Hatchback', 'SUV', 'MUV']\n"
          ]
        }
      ],
      "source": [
        "##Data structure\n",
        "##List - to store multiple information\n",
        "cars_type = ['Sedan','Hatchback','SUV',\"MUV\"]\n",
        "print('Cars:', cars_type)\n"
      ]
    },
    {
      "cell_type": "code",
      "execution_count": null,
      "metadata": {
        "colab": {
          "base_uri": "https://localhost:8080/"
        },
        "id": "-j-B7PZn0qvr",
        "outputId": "29067479-e53b-4ccf-cf1c-8eb2d0a3da08"
      },
      "outputs": [
        {
          "data": {
            "text/plain": [
              "15"
            ]
          },
          "execution_count": 28,
          "metadata": {},
          "output_type": "execute_result"
        }
      ],
      "source": [
        "milleage = [15, 19, 12,18]\n",
        "milleage[0]"
      ]
    },
    {
      "cell_type": "code",
      "execution_count": null,
      "metadata": {
        "colab": {
          "base_uri": "https://localhost:8080/"
        },
        "id": "2FjBl4Mk1gnz",
        "outputId": "b141fb46-f101-4bec-c75a-bfda20916f89"
      },
      "outputs": [
        {
          "data": {
            "text/plain": [
              "18"
            ]
          },
          "execution_count": 29,
          "metadata": {},
          "output_type": "execute_result"
        }
      ],
      "source": [
        "milleage[-1]"
      ]
    },
    {
      "cell_type": "code",
      "execution_count": null,
      "metadata": {
        "colab": {
          "base_uri": "https://localhost:8080/"
        },
        "id": "wk5st6rR17Bg",
        "outputId": "dbe01811-1ff1-4cc5-e65c-7302f8a68dd2"
      },
      "outputs": [
        {
          "data": {
            "text/plain": [
              "[15, 19]"
            ]
          },
          "execution_count": 35,
          "metadata": {},
          "output_type": "execute_result"
        }
      ],
      "source": [
        "milleage[0:2]"
      ]
    },
    {
      "cell_type": "code",
      "execution_count": null,
      "metadata": {
        "colab": {
          "base_uri": "https://localhost:8080/"
        },
        "id": "Tu-MdwJu2Yiq",
        "outputId": "56f13a96-c8ba-4b61-c640-d0213525d2fa"
      },
      "outputs": [
        {
          "data": {
            "text/plain": [
              "[19, 12]"
            ]
          },
          "execution_count": 37,
          "metadata": {},
          "output_type": "execute_result"
        }
      ],
      "source": [
        "milleage[1:3]"
      ]
    },
    {
      "cell_type": "code",
      "execution_count": null,
      "metadata": {
        "colab": {
          "base_uri": "https://localhost:8080/"
        },
        "id": "knLlbXvs2j_-",
        "outputId": "b6fbf3f7-bcc4-44e0-cb0b-2e8133c4f027"
      },
      "outputs": [
        {
          "name": "stdout",
          "output_type": "stream",
          "text": [
            "[15, 4, 5, 6, 19, 12, 18, 45, 50]\n",
            "[45, 50]\n"
          ]
        }
      ],
      "source": [
        "milleage1 = [15, 19, 12, 18, 45, 50]\n",
        "milleage1[1:1]=[4,5,6]\n",
        "print(milleage1)\n",
        "##print(milleage1[7:9])\n",
        "print(milleage1[-2:])\n"
      ]
    },
    {
      "cell_type": "code",
      "execution_count": null,
      "metadata": {
        "colab": {
          "base_uri": "https://localhost:8080/"
        },
        "id": "tUPsbZAj-j8r",
        "outputId": "dc3391db-47a0-4951-fad6-592f9aefa4c3"
      },
      "outputs": [
        {
          "name": "stdout",
          "output_type": "stream",
          "text": [
            "The sales values to date are:\n",
            "sedan: 200\n",
            "Hatchback: 652\n",
            "MUV: 412\n",
            "SUV: 123\n"
          ]
        },
        {
          "data": {
            "text/plain": [
              "1387"
            ]
          },
          "execution_count": 27,
          "metadata": {},
          "output_type": "execute_result"
        }
      ],
      "source": [
        "sales = [200,652,412,123]\n",
        "print(\"The sales values to date are:\")\n",
        "print('sedan:',sales[0])\n",
        "print('Hatchback:',sales[1])\n",
        "print('MUV:',sales[2])\n",
        "print('SUV:', sales[3])\n",
        "total_sales=sum(sales)\n",
        "total_sales"
      ]
    },
    {
      "cell_type": "code",
      "execution_count": null,
      "metadata": {
        "colab": {
          "base_uri": "https://localhost:8080/"
        },
        "id": "VFJnxeE9h90M",
        "outputId": "96dbc3da-0ef4-43cf-d388-6e9e6988a6ed"
      },
      "outputs": [
        {
          "name": "stdout",
          "output_type": "stream",
          "text": [
            "[200, 652, 412]\n"
          ]
        }
      ],
      "source": [
        "sales.pop(-1)\n",
        "print(sales)"
      ]
    },
    {
      "cell_type": "code",
      "execution_count": null,
      "metadata": {
        "id": "OyocyvzSBQgM"
      },
      "outputs": [],
      "source": []
    },
    {
      "cell_type": "code",
      "execution_count": null,
      "metadata": {
        "colab": {
          "base_uri": "https://localhost:8080/",
          "height": 228
        },
        "id": "xsV5mG433895",
        "outputId": "b5b1452e-2e63-4125-be5d-48cbfddc051c"
      },
      "outputs": [
        {
          "ename": "TypeError",
          "evalue": "'tuple' object does not support item assignment",
          "output_type": "error",
          "traceback": [
            "\u001b[0;31m---------------------------------------------------------------------------\u001b[0m",
            "\u001b[0;31mTypeError\u001b[0m                                 Traceback (most recent call last)",
            "\u001b[0;32m/tmp/ipython-input-32-4045591919.py\u001b[0m in \u001b[0;36m<cell line: 0>\u001b[0;34m()\u001b[0m\n\u001b[1;32m      3\u001b[0m \u001b[0mtype\u001b[0m\u001b[0;34m(\u001b[0m\u001b[0mtest\u001b[0m\u001b[0;34m)\u001b[0m\u001b[0;34m\u001b[0m\u001b[0;34m\u001b[0m\u001b[0m\n\u001b[1;32m      4\u001b[0m \u001b[0mtest\u001b[0m\u001b[0;34m[\u001b[0m\u001b[0;36m1\u001b[0m\u001b[0;34m]\u001b[0m\u001b[0;34m\u001b[0m\u001b[0;34m\u001b[0m\u001b[0m\n\u001b[0;32m----> 5\u001b[0;31m \u001b[0mtest\u001b[0m\u001b[0;34m[\u001b[0m\u001b[0;36m0\u001b[0m\u001b[0;34m]\u001b[0m\u001b[0;34m=\u001b[0m\u001b[0;36m20\u001b[0m\u001b[0;34m\u001b[0m\u001b[0;34m\u001b[0m\u001b[0m\n\u001b[0m\u001b[1;32m      6\u001b[0m \u001b[0mtest\u001b[0m\u001b[0;34m\u001b[0m\u001b[0;34m\u001b[0m\u001b[0m\n",
            "\u001b[0;31mTypeError\u001b[0m: 'tuple' object does not support item assignment"
          ]
        }
      ],
      "source": [
        "##Tuples - immutable- for fixed values\n",
        "test=(1,2,3)\n",
        "type(test)\n",
        "test[1]\n",
        "test[0]=20\n",
        "test\n",
        "##means, values in tuples cant be changed, hence the error."
      ]
    },
    {
      "cell_type": "code",
      "execution_count": null,
      "metadata": {
        "colab": {
          "base_uri": "https://localhost:8080/"
        },
        "id": "joVgciw_Han0",
        "outputId": "b9b2b644-64a8-40eb-d16c-8eea15351f25"
      },
      "outputs": [
        {
          "data": {
            "text/plain": [
              "(10, 2, 3)"
            ]
          },
          "execution_count": 36,
          "metadata": {},
          "output_type": "execute_result"
        }
      ],
      "source": [
        "##To change elements in tuple, changet the tuple to list\n",
        "test= list(test)\n",
        "type(test)\n",
        "test[0]= 10\n",
        "test=tuple(test)\n",
        "test"
      ]
    },
    {
      "cell_type": "markdown",
      "metadata": {
        "id": "KyjD6iJ3D6Y8"
      },
      "source": []
    },
    {
      "cell_type": "code",
      "execution_count": null,
      "metadata": {
        "colab": {
          "base_uri": "https://localhost:8080/"
        },
        "id": "jrYzsV2zEiwY",
        "outputId": "1eef1a40-da6c-4d79-935f-673e026978a3"
      },
      "outputs": [
        {
          "name": "stdout",
          "output_type": "stream",
          "text": [
            "the number of seats for each type of car are (5, 4, 6, 8)\n"
          ]
        },
        {
          "data": {
            "text/plain": [
              "tuple"
            ]
          },
          "execution_count": 20,
          "metadata": {},
          "output_type": "execute_result"
        }
      ],
      "source": [
        "sitting = (5,4,6,8)\n",
        "print('the number of seats for each type of car are', sitting)\n",
        "type(sitting)"
      ]
    },
    {
      "cell_type": "code",
      "execution_count": null,
      "metadata": {
        "colab": {
          "base_uri": "https://localhost:8080/"
        },
        "id": "qsNtFru9M2My",
        "outputId": "163e9fd0-3858-4f65-e3a1-6c14ab5ff474"
      },
      "outputs": [
        {
          "name": "stdout",
          "output_type": "stream",
          "text": [
            "The engine size for each car is:\n",
            "Sedan: 2200\n",
            "Hatchback: 2800\n",
            "MUV: 2500\n",
            "SUV: 2000\n"
          ]
        }
      ],
      "source": [
        "car_engine_size =(2200,2800,2500,2000)\n",
        "print(\"The engine size for each car is:\")\n",
        "print(\"Sedan:\",car_engine_size[0])\n",
        "print(\"Hatchback:\", car_engine_size[1])\n",
        "print(\"MUV:\", car_engine_size[2])\n",
        "print(\"SUV:\", car_engine_size[3])"
      ]
    },
    {
      "cell_type": "code",
      "execution_count": null,
      "metadata": {
        "colab": {
          "base_uri": "https://localhost:8080/"
        },
        "id": "b9u_3VZENfkL",
        "outputId": "d9c56438-90fa-4293-afe2-b2e6db07c38e"
      },
      "outputs": [
        {
          "data": {
            "text/plain": [
              "{'name': 'Runyi', 'age': 18, 'state': 'Lagos'}"
            ]
          },
          "execution_count": 4,
          "metadata": {},
          "output_type": "execute_result"
        }
      ],
      "source": [
        "##Dictionary - Key/value pair\n",
        "test={\n",
        "    'name' : 'Runyi',\n",
        "    'age' : 18,\n",
        "    'state': 'Lagos'\n",
        "}\n",
        "test"
      ]
    },
    {
      "cell_type": "code",
      "execution_count": null,
      "metadata": {
        "colab": {
          "base_uri": "https://localhost:8080/"
        },
        "id": "VKDxQ3wjTDEG",
        "outputId": "24132287-fd5d-4b33-fafe-82a01b5afd2b"
      },
      "outputs": [
        {
          "data": {
            "text/plain": [
              "dict"
            ]
          },
          "execution_count": 5,
          "metadata": {},
          "output_type": "execute_result"
        }
      ],
      "source": [
        "type(test)"
      ]
    },
    {
      "cell_type": "code",
      "execution_count": null,
      "metadata": {
        "colab": {
          "base_uri": "https://localhost:8080/",
          "height": 35
        },
        "id": "BoYq1tN84UUy",
        "outputId": "44846e8a-11b9-437c-92ec-8aafe8879f2b"
      },
      "outputs": [
        {
          "data": {
            "application/vnd.google.colaboratory.intrinsic+json": {
              "type": "string"
            },
            "text/plain": [
              "'Runyi'"
            ]
          },
          "execution_count": 7,
          "metadata": {},
          "output_type": "execute_result"
        }
      ],
      "source": [
        "test['name']"
      ]
    },
    {
      "cell_type": "code",
      "execution_count": null,
      "metadata": {
        "colab": {
          "base_uri": "https://localhost:8080/"
        },
        "id": "cFuVgyub4YEo",
        "outputId": "69d8574d-96d4-4211-d314-e5612f820dbe"
      },
      "outputs": [
        {
          "data": {
            "text/plain": [
              "{'name': 'Mike', 'age': 18, 'state': 'Lagos'}"
            ]
          },
          "execution_count": 9,
          "metadata": {},
          "output_type": "execute_result"
        }
      ],
      "source": [
        " test['name'] ='Mike'\n",
        " test"
      ]
    },
    {
      "cell_type": "code",
      "execution_count": null,
      "metadata": {
        "colab": {
          "base_uri": "https://localhost:8080/"
        },
        "id": "bYhb0dVT4vHW",
        "outputId": "3859c966-617d-44ba-986f-bca8315572d3"
      },
      "outputs": [
        {
          "data": {
            "text/plain": [
              "{'name': 'Mike', 'age': 18, 'state': ['Delta', 'Osun']}"
            ]
          },
          "execution_count": 11,
          "metadata": {},
          "output_type": "execute_result"
        }
      ],
      "source": [
        "test['state'] = ['Delta', 'Osun']\n",
        "test"
      ]
    },
    {
      "cell_type": "code",
      "execution_count": null,
      "metadata": {
        "colab": {
          "base_uri": "https://localhost:8080/"
        },
        "id": "9_lEDqxS5Wr_",
        "outputId": "c0158fd4-4e15-4d07-dd70-a4bb75087723"
      },
      "outputs": [
        {
          "data": {
            "text/plain": [
              "dict_keys(['name', 'age', 'state'])"
            ]
          },
          "execution_count": 12,
          "metadata": {},
          "output_type": "execute_result"
        }
      ],
      "source": [
        "test.keys()"
      ]
    },
    {
      "cell_type": "code",
      "execution_count": null,
      "metadata": {
        "colab": {
          "base_uri": "https://localhost:8080/"
        },
        "id": "nBrwas2R6a7V",
        "outputId": "1a284857-2cf6-43ea-9fe7-6b0c2fa0623c"
      },
      "outputs": [
        {
          "data": {
            "text/plain": [
              "dict_values(['Mike', 18, ['Delta', 'Osun']])"
            ]
          },
          "execution_count": 13,
          "metadata": {},
          "output_type": "execute_result"
        }
      ],
      "source": [
        "test.values()"
      ]
    },
    {
      "cell_type": "code",
      "execution_count": null,
      "metadata": {
        "colab": {
          "base_uri": "https://localhost:8080/"
        },
        "id": "s4OfLO6c6eVf",
        "outputId": "9c9c17dc-9c2c-4c62-9b69-6cedfcfd2845"
      },
      "outputs": [
        {
          "name": "stdout",
          "output_type": "stream",
          "text": [
            "Sales last Month: {'sedan': 2, 'Hatchback': 3, 'SUV': 1.5, 'Hybrid': 0}\n"
          ]
        }
      ],
      "source": [
        "sales_last_month = {\n",
        "    \"sedan\" : 2,\n",
        "    'Hatchback': 3,\n",
        "    'SUV': 1.5,\n",
        "    'Hybrid' : 0\n",
        "}\n",
        "print('Sales last Month:', sales_last_month)"
      ]
    },
    {
      "cell_type": "code",
      "execution_count": null,
      "metadata": {
        "colab": {
          "base_uri": "https://localhost:8080/"
        },
        "id": "HpZ_G6waIjC4",
        "outputId": "5b8b212f-997d-481e-d52c-00dce2ef911d"
      },
      "outputs": [
        {
          "data": {
            "text/plain": [
              "True"
            ]
          },
          "execution_count": 24,
          "metadata": {},
          "output_type": "execute_result"
        }
      ],
      "source": [
        "sales_last_month['Hatchback'] > sales_last_month['SUV']"
      ]
    },
    {
      "cell_type": "code",
      "execution_count": null,
      "metadata": {
        "colab": {
          "base_uri": "https://localhost:8080/"
        },
        "id": "gCEnD01b7qM6",
        "outputId": "4db40fd3-0560-4f1b-eb5f-1f524571dcd8"
      },
      "outputs": [
        {
          "name": "stdout",
          "output_type": "stream",
          "text": [
            "dict_keys(['sedan', 'Hatchback', 'SUV', 'Hybrid'])\n"
          ]
        }
      ],
      "source": [
        "print(sales_last_month.keys())"
      ]
    },
    {
      "cell_type": "code",
      "execution_count": null,
      "metadata": {
        "colab": {
          "base_uri": "https://localhost:8080/"
        },
        "id": "TOtXni677XsP",
        "outputId": "e8c94112-fc3c-488d-d388-b2fb5bb126a8"
      },
      "outputs": [
        {
          "name": "stdout",
          "output_type": "stream",
          "text": [
            "dict_values([2, 3, 1.5, 0])\n"
          ]
        }
      ],
      "source": [
        "print(sales_last_month.values())"
      ]
    },
    {
      "cell_type": "code",
      "execution_count": null,
      "metadata": {
        "colab": {
          "base_uri": "https://localhost:8080/"
        },
        "id": "2hnmoc577r3e",
        "outputId": "520aeb9f-2159-4306-e69c-d43a99a2fbd8"
      },
      "outputs": [
        {
          "data": {
            "text/plain": [
              "{'sedan': 2, 'Hatchback': 3, 'SUV': 1.5, 'Hybrid': 0.25}"
            ]
          },
          "execution_count": 19,
          "metadata": {},
          "output_type": "execute_result"
        }
      ],
      "source": [
        "sales_last_month['Hybrid'] = 0.25\n",
        "sales_last_month"
      ]
    },
    {
      "cell_type": "code",
      "execution_count": null,
      "metadata": {
        "colab": {
          "base_uri": "https://localhost:8080/"
        },
        "id": "Yrl7olSX8TIB",
        "outputId": "06ace2e9-85b8-4fbe-ba5a-69bddcd06225"
      },
      "outputs": [
        {
          "data": {
            "text/plain": [
              "False"
            ]
          },
          "execution_count": 28,
          "metadata": {},
          "output_type": "execute_result"
        }
      ],
      "source": [
        "##Comparison Operator - gives answers in true or false\n",
        "name = 'Runyi'\n",
        "name == 'Tade'"
      ]
    },
    {
      "cell_type": "code",
      "execution_count": null,
      "metadata": {
        "colab": {
          "base_uri": "https://localhost:8080/"
        },
        "id": "xKJjCqddIHqa",
        "outputId": "d88ba209-5e0a-4fba-fae2-2e14df898505"
      },
      "outputs": [
        {
          "data": {
            "text/plain": [
              "False"
            ]
          },
          "execution_count": 29,
          "metadata": {},
          "output_type": "execute_result"
        }
      ],
      "source": [
        "100 > 1000"
      ]
    },
    {
      "cell_type": "code",
      "execution_count": null,
      "metadata": {
        "id": "BLYv_bFMJpON"
      },
      "outputs": [],
      "source": [
        "if condition:\n",
        "  xxxxx\n",
        "  llll\n",
        "else:\n",
        "  xxxxx\n",
        "  vvvvv\n"
      ]
    },
    {
      "cell_type": "code",
      "execution_count": null,
      "metadata": {
        "colab": {
          "base_uri": "https://localhost:8080/"
        },
        "id": "v512TkWHMQK9",
        "outputId": "42a9b3f5-8430-472a-e1d1-a73fe04a198c"
      },
      "outputs": [
        {
          "output_type": "stream",
          "name": "stdout",
          "text": [
            "Ratings of each car {'Sedan_1': 64, 'Sedan_2': 49, 'Hatchback_1': 59, 'Hatchback_2': 78, 'Suv_1': 32, 'Suv_2': 84, 'Muv_1': 21, 'Muv_2': 31}\n"
          ]
        }
      ],
      "source": [
        "cars_ratings ={\n",
        "    'Sedan_1' : 64,\n",
        "    'Sedan_2' : 49,\n",
        "    'Hatchback_1' : 59,\n",
        "    'Hatchback_2' : 78,\n",
        "    'Suv_1' : 32,\n",
        "    'Suv_2': 84,\n",
        "    'Muv_1' : 21,\n",
        "    'Muv_2' : 31}\n",
        "print('Ratings of each car', cars_ratings)"
      ]
    },
    {
      "cell_type": "code",
      "source": [
        "if cars_ratings['Sedan_2'] > 50:\n",
        "  print('Sedan_2 is good performer')\n",
        "else:\n",
        "  print('Sedan_2 is not a good performer')"
      ],
      "metadata": {
        "colab": {
          "base_uri": "https://localhost:8080/"
        },
        "id": "65QMB6V1ow0a",
        "outputId": "c7b85317-2838-4d19-dc89-5e126a9321d0"
      },
      "execution_count": null,
      "outputs": [
        {
          "output_type": "stream",
          "name": "stdout",
          "text": [
            "Sedan_2 is not a good performer\n"
          ]
        }
      ]
    },
    {
      "cell_type": "code",
      "source": [
        "car = \"Muv_1\"\n",
        "if cars_ratings[car] > 50:\n",
        "   print(car, 'is a good performer')\n",
        "else:\n",
        "  print(car, 'is not a good performer')\n"
      ],
      "metadata": {
        "id": "xWTkURBfj0Df",
        "colab": {
          "base_uri": "https://localhost:8080/"
        },
        "outputId": "08400786-644a-47d1-c62f-08fade93fc90"
      },
      "execution_count": null,
      "outputs": [
        {
          "output_type": "stream",
          "name": "stdout",
          "text": [
            "Muv_1 is not a good performer\n"
          ]
        }
      ]
    },
    {
      "cell_type": "code",
      "source": [
        "## if we want to check if all car types are good performers or not, we use for loop\n",
        "for car in cars_ratings:\n",
        "  if cars_ratings[car]>50:\n",
        "    print(car, 'is a good performer')\n",
        " ## else:\n",
        "     ## print(car, 'is not a good performer')\n"
      ],
      "metadata": {
        "colab": {
          "base_uri": "https://localhost:8080/"
        },
        "id": "yzHnqbJFpm5u",
        "outputId": "6f05c85c-ff33-4880-e578-0858fd51bf27"
      },
      "execution_count": null,
      "outputs": [
        {
          "output_type": "stream",
          "name": "stdout",
          "text": [
            "Sedan_1 is a good performer\n",
            "Hatchback_1 is a good performer\n",
            "Hatchback_2 is a good performer\n",
            "Suv_2 is a good performer\n"
          ]
        }
      ]
    },
    {
      "cell_type": "markdown",
      "source": [
        "# Mobile Store"
      ],
      "metadata": {
        "id": "Q2dnNJm9yhv9"
      }
    },
    {
      "cell_type": "code",
      "source": [
        "price = 900\n",
        "print('The Price of the Mobile is $',price, sep='')"
      ],
      "metadata": {
        "id": "1UrI1tl3redj",
        "colab": {
          "base_uri": "https://localhost:8080/"
        },
        "outputId": "2a7ad9d5-68ad-4a26-8a20-8370e225464d"
      },
      "execution_count": null,
      "outputs": [
        {
          "output_type": "stream",
          "name": "stdout",
          "text": [
            "The Price of the Mobile is $900\n"
          ]
        }
      ]
    },
    {
      "cell_type": "code",
      "source": [
        "brand = 'Apple'\n",
        "print('The brand of the mobile phone is', brand)"
      ],
      "metadata": {
        "colab": {
          "base_uri": "https://localhost:8080/"
        },
        "id": "Trc0Yj2iq7zY",
        "outputId": "2e1f58c3-2f34-45e8-8067-8dda5d2ba74b"
      },
      "execution_count": null,
      "outputs": [
        {
          "output_type": "stream",
          "name": "stdout",
          "text": [
            "The brand of the mobile phone is Apple\n"
          ]
        }
      ]
    },
    {
      "cell_type": "code",
      "source": [
        "ram = 4\n",
        "print('The RAM of the mobile is',ram, 'GB')"
      ],
      "metadata": {
        "colab": {
          "base_uri": "https://localhost:8080/"
        },
        "id": "6-gLOiRyrmRO",
        "outputId": "e55d715e-525d-4b5b-a360-8b7598c78d8e"
      },
      "execution_count": null,
      "outputs": [
        {
          "output_type": "stream",
          "name": "stdout",
          "text": [
            "The RAM of the mobile is 4 GB\n"
          ]
        }
      ]
    },
    {
      "cell_type": "code",
      "source": [
        "storage = 128\n",
        "print('The internal storage of the Mobile is',storage,'GB')"
      ],
      "metadata": {
        "colab": {
          "base_uri": "https://localhost:8080/"
        },
        "id": "AErc_w4UsAn0",
        "outputId": "a1bc2e8a-4a79-4aed-d5d2-147be960ee07"
      },
      "execution_count": null,
      "outputs": [
        {
          "output_type": "stream",
          "name": "stdout",
          "text": [
            "The internal storage of the Mobile is 128 GB\n"
          ]
        }
      ]
    },
    {
      "cell_type": "code",
      "source": [
        "is_billed = True\n",
        "\n",
        "print(is_billed)"
      ],
      "metadata": {
        "colab": {
          "base_uri": "https://localhost:8080/"
        },
        "id": "_erzSu5bsOw8",
        "outputId": "68717934-bec9-4907-9bff-f2c6c1c1c434"
      },
      "execution_count": null,
      "outputs": [
        {
          "output_type": "stream",
          "name": "stdout",
          "text": [
            "True\n"
          ]
        }
      ]
    },
    {
      "cell_type": "code",
      "source": [
        "type(price)"
      ],
      "metadata": {
        "colab": {
          "base_uri": "https://localhost:8080/"
        },
        "id": "YJFOelont1ym",
        "outputId": "810a6c25-f727-47d8-ee3a-ff548d2ad62c"
      },
      "execution_count": null,
      "outputs": [
        {
          "output_type": "execute_result",
          "data": {
            "text/plain": [
              "int"
            ]
          },
          "metadata": {},
          "execution_count": 9
        }
      ]
    },
    {
      "cell_type": "code",
      "source": [
        "type(brand)"
      ],
      "metadata": {
        "colab": {
          "base_uri": "https://localhost:8080/"
        },
        "id": "B7ggua3hwKq8",
        "outputId": "ed193782-3a93-4c18-ee6b-05200dd19d29"
      },
      "execution_count": null,
      "outputs": [
        {
          "output_type": "execute_result",
          "data": {
            "text/plain": [
              "str"
            ]
          },
          "metadata": {},
          "execution_count": 10
        }
      ]
    },
    {
      "cell_type": "code",
      "source": [
        "type(is_billed)"
      ],
      "metadata": {
        "colab": {
          "base_uri": "https://localhost:8080/"
        },
        "id": "ro_eWhfWwNYt",
        "outputId": "0c7a2518-4982-4ba1-f223-26ae7a24a638"
      },
      "execution_count": null,
      "outputs": [
        {
          "output_type": "execute_result",
          "data": {
            "text/plain": [
              "bool"
            ]
          },
          "metadata": {},
          "execution_count": 11
        }
      ]
    },
    {
      "cell_type": "code",
      "source": [
        "#Let's assume a customer buys 2 phones, the total bill will be?\n",
        "bill = price * 2\n",
        "print('The bill amount is $',bill,sep='')"
      ],
      "metadata": {
        "colab": {
          "base_uri": "https://localhost:8080/"
        },
        "id": "8YG_9KsTwUWD",
        "outputId": "f82bd788-1f25-4334-ed5f-484402304bdd"
      },
      "execution_count": null,
      "outputs": [
        {
          "output_type": "stream",
          "name": "stdout",
          "text": [
            "The bill amount is $1800\n"
          ]
        }
      ]
    },
    {
      "cell_type": "code",
      "source": [
        "# Assuming the store provides a discount of $15 on the apple phone, what will be the price of the phone after discount\n",
        "price = 900\n",
        "discount = 15\n",
        "price_after_discount = price - discount\n",
        "print('The price of Phone after discount is $',price_after_discount,sep=\"\")"
      ],
      "metadata": {
        "colab": {
          "base_uri": "https://localhost:8080/"
        },
        "id": "eY_MkLGiw1_F",
        "outputId": "1f27c1d9-ea9c-4e37-b984-5a694047fa6b"
      },
      "execution_count": null,
      "outputs": [
        {
          "output_type": "stream",
          "name": "stdout",
          "text": [
            "The price of Phone after discount is $885\n"
          ]
        }
      ]
    },
    {
      "cell_type": "code",
      "source": [
        "#Assuming the customer bought 2 phones for $1000, find the price of 1 phone\n",
        "bill = 1000\n",
        "price = bill // 2 #double 'divided by' makes the output an integer\n",
        "print('The price of 1 phone is $',price,sep='')"
      ],
      "metadata": {
        "colab": {
          "base_uri": "https://localhost:8080/"
        },
        "id": "9N7bA6eQ0Luc",
        "outputId": "7e0e5c89-6c14-40b0-f44f-d4f232c571f7"
      },
      "execution_count": null,
      "outputs": [
        {
          "output_type": "stream",
          "name": "stdout",
          "text": [
            "The price of 1 phone is $500\n"
          ]
        }
      ]
    },
    {
      "cell_type": "code",
      "source": [
        "price = 900\n",
        "discount = price * 0.045\n",
        "discounted_price = price - discount\n",
        "print('the discounted price of the phone is $' + str(discounted_price))"
      ],
      "metadata": {
        "colab": {
          "base_uri": "https://localhost:8080/"
        },
        "id": "nRY31w_A1Rpw",
        "outputId": "3a3bf319-643a-4246-d6a1-ba2c71fe2b48"
      },
      "execution_count": null,
      "outputs": [
        {
          "output_type": "stream",
          "name": "stdout",
          "text": [
            "the discounted price of the phone is $859.5\n"
          ]
        }
      ]
    },
    {
      "cell_type": "code",
      "source": [
        "#checking data types of variables\n",
        "print('The data type of variable price is', type(price))\n",
        "print('The data type for variable discount is', type(discount))"
      ],
      "metadata": {
        "colab": {
          "base_uri": "https://localhost:8080/"
        },
        "id": "CCnfuWlb1poD",
        "outputId": "90b51add-4b04-4590-acf4-e98e0b5bb9a0"
      },
      "execution_count": null,
      "outputs": [
        {
          "output_type": "stream",
          "name": "stdout",
          "text": [
            "The data type of variable price is <class 'int'>\n",
            "The data type for variable discount is <class 'float'>\n"
          ]
        }
      ]
    },
    {
      "cell_type": "code",
      "source": [
        "#Lets add brand, ram and storage variables\n",
        "brand = \"apple\"\n",
        "ram = 4\n",
        "print(brand + ' '+ str(ram) + 'GB') #note that you cant concatenate str and int"
      ],
      "metadata": {
        "colab": {
          "base_uri": "https://localhost:8080/"
        },
        "id": "9Uo1ttshZ3q2",
        "outputId": "372c41e4-62c7-4a2d-a593-6244cfc88208"
      },
      "execution_count": null,
      "outputs": [
        {
          "output_type": "stream",
          "name": "stdout",
          "text": [
            "apple 4GB\n"
          ]
        }
      ]
    },
    {
      "cell_type": "code",
      "source": [
        "#List- stores several items in square brackets\n",
        "brand_list =['Apple', 'Samsung', 'LG', 'Apple']\n",
        "ram_list =[4,12,8,8]\n",
        "storage_list =[128,128,64,128]\n",
        "price_list =[900,899,600,1000]\n",
        "print('RAM list -', ram_list)\n",
        "print('Storage list -', storage_list)\n",
        "print('Price List -', price_list)\n",
        "brand_length = len(brand_list)\n",
        "print('The number of brands is', brand_length)\n",
        "max_price = max(price_list)\n",
        "print('The maximum price is $',max_price, sep=\"\")\n",
        "min_price = min(price_list)\n",
        "print('The Minimum Price is $', min_price, sep=\"\")\n",
        "third_value_in_ram_list = ram_list[2] #starting from the 0, the 3rd value will be 8\n",
        "print(third_value_in_ram_list)\n",
        "print(price_list[1])\n",
        "print(price_list[0:3])\n",
        "print(price_list[-1])\n",
        "print(price_list[-2])\n",
        "brand_list[3] = 'Techno'\n",
        "print(brand_list)\n",
        "new_list = brand_list.pop(1)\n",
        "print(new_list)\n",
        "brand_list.append('Nokia')\n",
        "print(brand_list)\n",
        "print(brand_list[2])\n",
        "\n"
      ],
      "metadata": {
        "colab": {
          "base_uri": "https://localhost:8080/"
        },
        "id": "Tx-ta8x6bOWI",
        "outputId": "ddc50e82-f04a-4646-e825-212ebb5b0a97"
      },
      "execution_count": null,
      "outputs": [
        {
          "output_type": "stream",
          "name": "stdout",
          "text": [
            "RAM list - [4, 12, 8, 8]\n",
            "Storage list - [128, 128, 64, 128]\n",
            "Price List - [900, 899, 600, 1000]\n",
            "The number of brands is 4\n",
            "The maximum price is $1000\n",
            "The Minimum Price is $600\n",
            "8\n",
            "899\n",
            "[900, 899, 600]\n",
            "1000\n",
            "600\n",
            "['Apple', 'Samsung', 'LG', 'Techno']\n",
            "Samsung\n",
            "['Apple', 'LG', 'Techno', 'Nokia']\n",
            "Techno\n"
          ]
        }
      ]
    },
    {
      "cell_type": "code",
      "source": [
        "#Tuples - stores items in a parenthesis bracket and is immutable. use if for values\n",
        "storage = (32,64,128,256,[1,2,3,5])\n",
        "print(storage)\n",
        "print(storage[1])\n",
        "print(storage[-1])\n",
        "\n",
        "\n"
      ],
      "metadata": {
        "colab": {
          "base_uri": "https://localhost:8080/"
        },
        "id": "1TTRktdTfL2r",
        "outputId": "4893d522-ec19-42c1-a9c6-66b62f97386d"
      },
      "execution_count": null,
      "outputs": [
        {
          "output_type": "stream",
          "name": "stdout",
          "text": [
            "(32, 64, 128, 256, [1, 2, 3, 5])\n",
            "64\n",
            "[1, 2, 3, 5]\n"
          ]
        }
      ]
    },
    {
      "cell_type": "code",
      "source": [
        "age = (19,18,25,90)\n",
        "new_age = list(age) #converted it to list to make a change\n",
        "new_age[-1] = 92 #changed the last digit\n",
        "age = tuple(new_age) #converted it back to tuple\n",
        "print(age)\n",
        "#output should be (19,18,25,92)"
      ],
      "metadata": {
        "id": "NKqo3Mwq7FUb",
        "colab": {
          "base_uri": "https://localhost:8080/",
          "height": 245
        },
        "collapsed": true,
        "outputId": "a56484ce-adc3-43a8-856a-08a6df2dc520"
      },
      "execution_count": null,
      "outputs": [
        {
          "output_type": "error",
          "ename": "TypeError",
          "evalue": "'list' object is not callable",
          "traceback": [
            "\u001b[0;31m---------------------------------------------------------------------------\u001b[0m",
            "\u001b[0;31mTypeError\u001b[0m                                 Traceback (most recent call last)",
            "\u001b[0;32m/tmp/ipython-input-31-121348689.py\u001b[0m in \u001b[0;36m<cell line: 0>\u001b[0;34m()\u001b[0m\n\u001b[1;32m      1\u001b[0m \u001b[0mage\u001b[0m \u001b[0;34m=\u001b[0m \u001b[0;34m(\u001b[0m\u001b[0;36m19\u001b[0m\u001b[0;34m,\u001b[0m\u001b[0;36m18\u001b[0m\u001b[0;34m,\u001b[0m\u001b[0;36m25\u001b[0m\u001b[0;34m,\u001b[0m\u001b[0;36m90\u001b[0m\u001b[0;34m)\u001b[0m\u001b[0;34m\u001b[0m\u001b[0;34m\u001b[0m\u001b[0m\n\u001b[0;32m----> 2\u001b[0;31m \u001b[0mnew_age\u001b[0m \u001b[0;34m=\u001b[0m \u001b[0mlist\u001b[0m\u001b[0;34m(\u001b[0m\u001b[0mage\u001b[0m\u001b[0;34m)\u001b[0m\u001b[0;34m\u001b[0m\u001b[0;34m\u001b[0m\u001b[0m\n\u001b[0m\u001b[1;32m      3\u001b[0m \u001b[0mnew_age\u001b[0m\u001b[0;34m[\u001b[0m\u001b[0;34m-\u001b[0m\u001b[0;36m1\u001b[0m\u001b[0;34m]\u001b[0m \u001b[0;34m=\u001b[0m \u001b[0;36m92\u001b[0m\u001b[0;34m\u001b[0m\u001b[0;34m\u001b[0m\u001b[0m\n\u001b[1;32m      4\u001b[0m \u001b[0mage\u001b[0m \u001b[0;34m=\u001b[0m \u001b[0mtuple\u001b[0m\u001b[0;34m(\u001b[0m\u001b[0mnew_age\u001b[0m\u001b[0;34m)\u001b[0m\u001b[0;34m\u001b[0m\u001b[0;34m\u001b[0m\u001b[0m\n\u001b[1;32m      5\u001b[0m \u001b[0mprint\u001b[0m\u001b[0;34m(\u001b[0m\u001b[0mage\u001b[0m\u001b[0;34m)\u001b[0m\u001b[0;34m\u001b[0m\u001b[0;34m\u001b[0m\u001b[0m\n",
            "\u001b[0;31mTypeError\u001b[0m: 'list' object is not callable"
          ]
        }
      ]
    },
    {
      "cell_type": "code",
      "source": [
        "#Dictionary - Key : Value pairs inside {}\n",
        "attributes = {\n",
        "    'brand' : 'Apple',\n",
        "    'Ram' : 4,\n",
        "    'Storage' : 128,\n",
        "    'Price' : 900\n",
        "}\n",
        "print(attributes)\n",
        "type(attributes)\n",
        "price = attributes['Price']\n",
        "print('price is $', price, sep='')\n",
        "attributes['Price'] = 1000\n",
        "print(attributes)\n",
        "attributes.pop('Storage')\n",
        "print(attributes)\n"
      ],
      "metadata": {
        "colab": {
          "base_uri": "https://localhost:8080/"
        },
        "id": "sU2_JiuiLNvX",
        "outputId": "af23e070-8c7b-4cdb-91f1-8704491793c2"
      },
      "execution_count": null,
      "outputs": [
        {
          "output_type": "stream",
          "name": "stdout",
          "text": [
            "{'brand': 'Apple', 'Ram': 4, 'Storage': 128, 'Price': 900}\n",
            "price is $900\n",
            "{'brand': 'Apple', 'Ram': 4, 'Storage': 128, 'Price': 1000}\n",
            "{'brand': 'Apple', 'Ram': 4, 'Price': 1000}\n"
          ]
        }
      ]
    },
    {
      "cell_type": "code",
      "source": [
        "#we can have lists in dictionaries\n",
        "brand_list = ['Apple', 'Lg']\n",
        "ram_list =[4,8]\n",
        "storage_list = [124, 256]\n",
        "price_list = [900, 300]\n",
        "product ={\n",
        "    \"Brand\" : brand_list,\n",
        "    \"RAM\" : ram_list,\n",
        "    \"Storage\" : storage_list,\n",
        "    \"Price\" : price_list\n",
        "}\n",
        "print(product)\n",
        "keys = product.keys()\n",
        "print('The Keys of the dictionary are :\\n', keys)\n",
        "values = product.values()\n",
        "print('The Values of this dictionary are :\\n', values)\n",
        "product['RAM'][1]\n"
      ],
      "metadata": {
        "colab": {
          "base_uri": "https://localhost:8080/"
        },
        "id": "RRWEW7lcR3ZY",
        "outputId": "65c61586-1849-41ab-b55a-f7de2dd1bf98"
      },
      "execution_count": null,
      "outputs": [
        {
          "output_type": "stream",
          "name": "stdout",
          "text": [
            "{'Brand': ['Apple', 'Lg'], 'RAM': [4, 8], 'Storage': [124, 256], 'Price': [900, 300]}\n",
            "The Keys of the dictionary are :\n",
            " dict_keys(['Brand', 'RAM', 'Storage', 'Price'])\n",
            "The Values of this dictionary are :\n",
            " dict_values([['Apple', 'Lg'], [4, 8], [124, 256], [900, 300]])\n"
          ]
        },
        {
          "output_type": "execute_result",
          "data": {
            "text/plain": [
              "8"
            ]
          },
          "metadata": {},
          "execution_count": 49
        }
      ]
    },
    {
      "cell_type": "code",
      "source": [
        "#conditional statement\n",
        "price = 500\n",
        "budget = int(input(\"What's your Budget? :\"))\n",
        "if price <= budget:\n",
        "  print('Congrats! You can make a purchase')\n",
        "else:\n",
        "  print('Sorry! You are not eligible')\n",
        "\n"
      ],
      "metadata": {
        "colab": {
          "base_uri": "https://localhost:8080/"
        },
        "id": "TKWyddUHWiuG",
        "outputId": "31a69254-31d4-47df-912a-d636d2673e8e"
      },
      "execution_count": null,
      "outputs": [
        {
          "output_type": "stream",
          "name": "stdout",
          "text": [
            "What's your Budget? :400\n",
            "Sorry! You are not eligible\n"
          ]
        }
      ]
    },
    {
      "cell_type": "code",
      "source": [
        "memory = int(input('Enter phone memory: '))\n",
        "if memory == 32:\n",
        "  print('The price of the phone is $600')\n",
        "elif memory == 64:\n",
        "  print('The price of the phone is $800')\n",
        "elif memory == 128:\n",
        "  print('The price of the phone is $1000')\n",
        "else:\n",
        "  print('Enter a valid Memory requirement')"
      ],
      "metadata": {
        "colab": {
          "base_uri": "https://localhost:8080/"
        },
        "id": "FYE3Ry1rmo5I",
        "outputId": "b300138e-88a7-4434-f5fd-add08fc1b6b0"
      },
      "execution_count": null,
      "outputs": [
        {
          "output_type": "stream",
          "name": "stdout",
          "text": [
            "Enter phone memory: 128\n",
            "The price of the phone is $1000\n"
          ]
        }
      ]
    },
    {
      "cell_type": "code",
      "source": [
        "A = int(input())\n",
        "B = int(input())\n",
        "C = A * B\n",
        "C"
      ],
      "metadata": {
        "colab": {
          "base_uri": "https://localhost:8080/"
        },
        "id": "CUs2SMzg8PWC",
        "outputId": "e41cfd9e-cd45-4e53-8b93-d4f5b7ca1d3e"
      },
      "execution_count": null,
      "outputs": [
        {
          "name": "stdout",
          "output_type": "stream",
          "text": [
            "10\n",
            "12\n"
          ]
        },
        {
          "output_type": "execute_result",
          "data": {
            "text/plain": [
              "120"
            ]
          },
          "metadata": {},
          "execution_count": 64
        }
      ]
    },
    {
      "cell_type": "code",
      "source": [
        "#Loops - repeats a bunch of codes a bunch of times - for loop i.e for a number of times do this\n",
        "#range is used for looping\n",
        "print(range(6)) #it prints out 0 - 5. the output range(0,6) means start at 0, end at \"before 6\" just like list"
      ],
      "metadata": {
        "colab": {
          "base_uri": "https://localhost:8080/"
        },
        "id": "FnEs1n2N8er3",
        "outputId": "dde1b681-bed1-4c9e-a334-e3ece2f4da16"
      },
      "execution_count": null,
      "outputs": [
        {
          "output_type": "stream",
          "name": "stdout",
          "text": [
            "range(0, 6)\n"
          ]
        }
      ]
    },
    {
      "cell_type": "code",
      "source": [
        "print(list(range(6))) # this changes the range to a list"
      ],
      "metadata": {
        "colab": {
          "base_uri": "https://localhost:8080/"
        },
        "id": "F3RFoc5vZIhz",
        "outputId": "3574908d-4908-4034-a428-f855512415cf"
      },
      "execution_count": null,
      "outputs": [
        {
          "output_type": "stream",
          "name": "stdout",
          "text": [
            "[0, 1, 2, 3, 4, 5]\n"
          ]
        }
      ]
    },
    {
      "cell_type": "code",
      "source": [
        "print(list(range(2,6)))"
      ],
      "metadata": {
        "colab": {
          "base_uri": "https://localhost:8080/"
        },
        "id": "k3ZoKpGuZsh8",
        "outputId": "987fe741-e0c8-4154-bb05-1b469c7505c2"
      },
      "execution_count": null,
      "outputs": [
        {
          "output_type": "stream",
          "name": "stdout",
          "text": [
            "[2, 3, 4, 5]\n"
          ]
        }
      ]
    },
    {
      "cell_type": "code",
      "source": [
        "print(list(range(6, 14, 2))) #start at 6, stop at \"before 14\" in step of 2's"
      ],
      "metadata": {
        "colab": {
          "base_uri": "https://localhost:8080/"
        },
        "id": "xf7Gxoi0b2Nl",
        "outputId": "e62799fa-ec1b-490e-a1e4-6f537928e50f"
      },
      "execution_count": null,
      "outputs": [
        {
          "output_type": "stream",
          "name": "stdout",
          "text": [
            "[6, 8, 10, 12]\n"
          ]
        }
      ]
    },
    {
      "cell_type": "code",
      "source": [
        "#what is the discount price for 5%, 10%, 15%, 20% . we use range when the list is enormous\n",
        "price = 900\n",
        "for i in range(5, 21, 5): #means start from 5, end 'before 21' in steps of 5\n",
        "      discount = price * i/100\n",
        "      discount_price = price - discount\n",
        "      print('The discount price for ', i , '% is $', discount_price, sep=\"\")\n"
      ],
      "metadata": {
        "colab": {
          "base_uri": "https://localhost:8080/"
        },
        "id": "MGcSw7lQcKMW",
        "outputId": "e1797511-1d67-4ee9-a071-ef77c9fe352a"
      },
      "execution_count": null,
      "outputs": [
        {
          "output_type": "stream",
          "name": "stdout",
          "text": [
            "The discount price for 5% is $855.0\n",
            "The discount price for 10% is $810.0\n",
            "The discount price for 15% is $765.0\n",
            "The discount price for 20% is $720.0\n"
          ]
        }
      ]
    },
    {
      "cell_type": "code",
      "source": [
        "sum = 0\n",
        "for n in range(1,5):\n",
        "  sum = sum + n\n",
        "  print(sum)"
      ],
      "metadata": {
        "colab": {
          "base_uri": "https://localhost:8080/"
        },
        "id": "6_pTns0amb3r",
        "outputId": "04509a1e-9b4b-4cc8-e0a0-99d79cc6baec"
      },
      "execution_count": null,
      "outputs": [
        {
          "output_type": "stream",
          "name": "stdout",
          "text": [
            "1\n",
            "3\n",
            "6\n",
            "10\n"
          ]
        }
      ]
    },
    {
      "cell_type": "code",
      "source": [
        "#While Loop - run the code inside a loop as many times as this condition is satisfied\n",
        "#It's used when a condition is true\n",
        "price = 900\n",
        "i = 5\n",
        "while i <= 20:\n",
        "  discount = price * (i/100)\n",
        "  discount_price = price - discount\n",
        "  print('The discount price for ', i, '% is $', discount_price, sep='')\n",
        "  i+=5"
      ],
      "metadata": {
        "colab": {
          "base_uri": "https://localhost:8080/"
        },
        "id": "n_EbnWc2pXf9",
        "outputId": "40cf9344-015a-4083-a101-b0b746b7844c"
      },
      "execution_count": null,
      "outputs": [
        {
          "output_type": "stream",
          "name": "stdout",
          "text": [
            "The discount price for 5% is $855.0\n",
            "The discount price for 10% is $810.0\n",
            "The discount price for 15% is $765.0\n",
            "The discount price for 20% is $720.0\n"
          ]
        }
      ]
    },
    {
      "cell_type": "code",
      "source": [
        "#List Comprehension - to create a list with a loop\n",
        "# we want to know the discounted prices for all the product\n",
        "price_list = [900,899,600,1000]\n",
        "discount_price_list= []\n",
        "for x in price_list:\n",
        "  discount_price = x - (x * 5/100)\n",
        "  discount_price_list.append(discount_price)\n",
        "  print(discount_price_list)\n"
      ],
      "metadata": {
        "colab": {
          "base_uri": "https://localhost:8080/"
        },
        "id": "uNj6a5nLJ5AQ",
        "outputId": "eeee1372-de66-458d-c64c-d2f2439177a5"
      },
      "execution_count": null,
      "outputs": [
        {
          "output_type": "stream",
          "name": "stdout",
          "text": [
            "[855.0]\n",
            "[855.0, 854.05]\n",
            "[855.0, 854.05, 570.0]\n",
            "[855.0, 854.05, 570.0, 950.0]\n"
          ]
        }
      ]
    },
    {
      "cell_type": "code",
      "source": [
        "#another way of doing it\n",
        "discount_price_list = [x-(x*5/100)for x in price_list]\n",
        "print(discount_price_list)"
      ],
      "metadata": {
        "colab": {
          "base_uri": "https://localhost:8080/"
        },
        "id": "6q9uYfZcHS7I",
        "outputId": "e1ed438a-5694-4d64-e205-199d15261783"
      },
      "execution_count": null,
      "outputs": [
        {
          "output_type": "stream",
          "name": "stdout",
          "text": [
            "[855.0, 854.05, 570.0, 950.0]\n"
          ]
        }
      ]
    },
    {
      "cell_type": "code",
      "source": [
        "budget = int(input('Enter your budget:'))\n",
        "\n",
        "within_budget =['yes' if x <= budget else 'no' for x in discount_price_list]\n",
        "print(within_budget)"
      ],
      "metadata": {
        "colab": {
          "base_uri": "https://localhost:8080/"
        },
        "id": "ywBLU7-dONfQ",
        "outputId": "264a6215-1b30-4732-a0c8-bf1b3d6d36bb"
      },
      "execution_count": null,
      "outputs": [
        {
          "output_type": "stream",
          "name": "stdout",
          "text": [
            "Enter your budget:1000\n",
            "['yes', 'yes', 'yes', 'yes']\n"
          ]
        }
      ]
    },
    {
      "cell_type": "code",
      "source": [
        "#Functions - a block of instruction that performs a specific task\n",
        "def phone_attributes():\n",
        "    brand = \"Apple\"\n",
        "    price = 900\n",
        "    ram = 4\n",
        "    storage= 128\n",
        "    print('The', brand,' phone has ', ram, 'GB RAM, ' , storage, 'GB storage and it cost $', price, sep='')\n"
      ],
      "metadata": {
        "id": "Kiyr0Y9RSs9M"
      },
      "execution_count": 10,
      "outputs": []
    },
    {
      "cell_type": "code",
      "source": [
        "phone_attributes()"
      ],
      "metadata": {
        "id": "BG7DmbZKjgAm",
        "colab": {
          "base_uri": "https://localhost:8080/"
        },
        "outputId": "80f04a4c-4a39-406e-e708-02e25d307082"
      },
      "execution_count": 14,
      "outputs": [
        {
          "output_type": "stream",
          "name": "stdout",
          "text": [
            "The apple phone has 4GB RAM128GB storage and it cost $900\n"
          ]
        }
      ]
    },
    {
      "cell_type": "code",
      "source": [
        " phone_attributes('apple', 900, 4, 128)"
      ],
      "metadata": {
        "colab": {
          "base_uri": "https://localhost:8080/"
        },
        "id": "Z6ZhpM5mnN36",
        "outputId": "9e045e6f-10cb-418d-b7d1-16f6f961f40a"
      },
      "execution_count": 27,
      "outputs": [
        {
          "output_type": "stream",
          "name": "stdout",
          "text": [
            "The apple phone has 4GB RAM 128 GB storage and it cost $900\n"
          ]
        }
      ]
    },
    {
      "cell_type": "markdown",
      "source": [
        "#Exercise\n",
        "\n"
      ],
      "metadata": {
        "id": "FzdaTGsL43b6"
      }
    },
    {
      "cell_type": "code",
      "source": [
        "n = 8\n",
        "for i in range(1, 11):\n",
        " print(\"{} ^ {} =\".format(n, i), n**i)"
      ],
      "metadata": {
        "colab": {
          "base_uri": "https://localhost:8080/"
        },
        "id": "vHQwkIlV6ixG",
        "outputId": "fbc6fdc5-6c22-4cc4-c592-5721cf90edd8"
      },
      "execution_count": 1,
      "outputs": [
        {
          "output_type": "stream",
          "name": "stdout",
          "text": [
            "8 ^ 1 = 8\n",
            "8 ^ 2 = 64\n",
            "8 ^ 3 = 512\n",
            "8 ^ 4 = 4096\n",
            "8 ^ 5 = 32768\n",
            "8 ^ 6 = 262144\n",
            "8 ^ 7 = 2097152\n",
            "8 ^ 8 = 16777216\n",
            "8 ^ 9 = 134217728\n",
            "8 ^ 10 = 1073741824\n"
          ]
        }
      ]
    },
    {
      "cell_type": "code",
      "source": [
        "#Block Sam inside campus\n",
        "name = input('Enter your name: ')\n",
        "if name=='sam':\n",
        "  print('You cant enter campus')\n",
        "else:\n",
        "  print('You can enter the campus')"
      ],
      "metadata": {
        "colab": {
          "base_uri": "https://localhost:8080/"
        },
        "id": "U24TWy0d6pb0",
        "outputId": "8b3844c7-8af9-4c25-8646-62db64ac6cd8"
      },
      "execution_count": 1,
      "outputs": [
        {
          "output_type": "stream",
          "name": "stdout",
          "text": [
            "Enter your name: Runyi\n",
            "You can enter the campus\n"
          ]
        }
      ]
    },
    {
      "cell_type": "code",
      "source": [
        "#stop sam from using other names\n",
        "name = input('Enter your name: ')\n",
        "if name == \"sam\" or name =='tade' or name =='emma':\n",
        "  print('Access Denied!')\n",
        "else:\n",
        "  print('Access Granted')"
      ],
      "metadata": {
        "colab": {
          "base_uri": "https://localhost:8080/"
        },
        "id": "uQF0eH311Cbq",
        "outputId": "c3520692-c8c6-45d4-df1c-267e5205ed86"
      },
      "execution_count": 3,
      "outputs": [
        {
          "output_type": "stream",
          "name": "stdout",
          "text": [
            "Enter your name: sam\n",
            "Access Denied!\n"
          ]
        }
      ]
    },
    {
      "cell_type": "code",
      "source": [
        "#Code to return only elements from the dictionary that are greater than 25.\n",
        "dict={'a':23, 'b':40, 'c':34, 'd':50, 'e':19}\n",
        "dict_value = []\n",
        "if dict['a'] > 25:\n",
        "  dict_value.append(dict['a'])\n",
        "if dict['b']>25:\n",
        "  dict_value.append(dict['b'])\n",
        "if dict['c']>25:\n",
        "  dict_value.append(dict['c'])\n",
        "if dict['d']>25:\n",
        "  dict_value.append(dict['d'])\n",
        "if dict['e']>25:\n",
        "  dict_value.append(dict['e'])\n",
        "dict_value\n"
      ],
      "metadata": {
        "colab": {
          "base_uri": "https://localhost:8080/"
        },
        "id": "Q7cfG4da1a4I",
        "outputId": "26e15526-70c7-4857-c90b-892936231fde"
      },
      "execution_count": 4,
      "outputs": [
        {
          "output_type": "execute_result",
          "data": {
            "text/plain": [
              "[40, 34, 50]"
            ]
          },
          "metadata": {},
          "execution_count": 4
        }
      ]
    },
    {
      "cell_type": "code",
      "source": [
        "#to calucate the total amount for all phones ordered\n",
        "def total_prices(*args):\n",
        "  total = 0\n",
        "  for arg in args:\n",
        "    total += arg\n",
        "\n",
        "  return total\n",
        "print('The total amount for all phones ordered: ', total_prices(200, 400,100, 566, 190, 390, 560, 789, 101))"
      ],
      "metadata": {
        "colab": {
          "base_uri": "https://localhost:8080/"
        },
        "id": "wQOKO2H91tws",
        "outputId": "9edc6e9e-307f-41cb-8c6f-54630e2086a8"
      },
      "execution_count": 5,
      "outputs": [
        {
          "output_type": "stream",
          "name": "stdout",
          "text": [
            "The total amount for all phones ordered:  3296\n"
          ]
        }
      ]
    },
    {
      "cell_type": "code",
      "source": [
        "import random\n",
        "random_val = random.randint(1,50)\n",
        "user = int(input('enter numbers 1 to 50: '))\n",
        "if random_val == user:\n",
        "    print('You got it right !!')\n",
        "    print('random value is: ',random_val)\n",
        "elif random_val > user:\n",
        "    print('Nope !! little higher')\n",
        "    print('random value is: ',random_val)\n",
        "else:\n",
        "    print('Nope!! little lower')\n",
        "    print('random value is: ',random_val)\n"
      ],
      "metadata": {
        "colab": {
          "base_uri": "https://localhost:8080/"
        },
        "id": "X2wUOgT73T7z",
        "outputId": "b499b537-bfde-4bb4-88b9-f724c03db985"
      },
      "execution_count": 6,
      "outputs": [
        {
          "output_type": "stream",
          "name": "stdout",
          "text": [
            "enter numbers 1 to 50: 2\n",
            "Nope !! little higher\n",
            "random value is:  50\n"
          ]
        }
      ]
    },
    {
      "cell_type": "code",
      "source": [],
      "metadata": {
        "id": "U3JREr9b32-V"
      },
      "execution_count": null,
      "outputs": []
    }
  ],
  "metadata": {
    "colab": {
      "provenance": [],
      "collapsed_sections": [
        "SFPdhgtSyT3I",
        "Q2dnNJm9yhv9",
        "FzdaTGsL43b6"
      ],
      "authorship_tag": "ABX9TyMrIOfNQDGbrKFePn6ERZpA",
      "include_colab_link": true
    },
    "kernelspec": {
      "display_name": "Python 3",
      "name": "python3"
    },
    "language_info": {
      "name": "python"
    }
  },
  "nbformat": 4,
  "nbformat_minor": 0
}